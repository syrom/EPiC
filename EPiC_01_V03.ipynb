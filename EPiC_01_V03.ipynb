{
 "cells": [
  {
   "cell_type": "markdown",
   "metadata": {
    "collapsed": true
   },
   "source": [
    "# EPiC Pandas: Excel Pivot Calculations in Pandas"
   ]
  },
  {
   "cell_type": "code",
   "execution_count": 1,
   "metadata": {
    "collapsed": true
   },
   "outputs": [],
   "source": [
    "## Library import\n",
    "import pandas as pd\n",
    "import numpy as np"
   ]
  },
  {
   "cell_type": "markdown",
   "metadata": {
    "collapsed": true
   },
   "source": [
    "## General thoughts on data"
   ]
  },
  {
   "cell_type": "markdown",
   "metadata": {
    "collapsed": true
   },
   "source": [
    "- Logic and data: should, in principle, be seperated\n",
    "    - Excel's biggest single problem - but that is a different question !\n",
    "- __TLF-format__: \"Tidy Long Format\" - data should be available, on the most granular level, in a \"tidy long format\". That is to say that all the __features__ (also called __dimensions__ in some contexts) describing a data point (aka __metric__) should be available as distinct columns in the table or data frame\n",
    "    - Features are categorical variables\n",
    "        - somteimes \"binning\" is needed, e.g. creating age-groups based on value metric \"age\"\n",
    "    - Number of features determines the __dimensionality__ of the data\n",
    "    - The combination of categorical values describes a data point\n",
    "        - Important question: only UNIQUE data point descriptions in data ?\n",
    "            - multi-indexing in Pandas runs into problems if not; but the problem can be solved by a \"cautionary\" GroupBy on all features to make sure that eventuel rows with the same feature combination are aggregated"
   ]
  },
  {
   "cell_type": "code",
   "execution_count": 2,
   "metadata": {},
   "outputs": [
    {
     "data": {
      "text/html": [
       "<div>\n",
       "<style>\n",
       "    .dataframe thead tr:only-child th {\n",
       "        text-align: right;\n",
       "    }\n",
       "\n",
       "    .dataframe thead th {\n",
       "        text-align: left;\n",
       "    }\n",
       "\n",
       "    .dataframe tbody tr th {\n",
       "        vertical-align: top;\n",
       "    }\n",
       "</style>\n",
       "<table border=\"1\" class=\"dataframe\">\n",
       "  <thead>\n",
       "    <tr style=\"text-align: right;\">\n",
       "      <th></th>\n",
       "      <th>STORE</th>\n",
       "      <th>PRODUCT_GROUP</th>\n",
       "      <th>01_JAN</th>\n",
       "      <th>02_FEB</th>\n",
       "      <th>03_MAR</th>\n",
       "      <th>04_APR</th>\n",
       "      <th>05_MAY</th>\n",
       "      <th>06_JUN</th>\n",
       "    </tr>\n",
       "  </thead>\n",
       "  <tbody>\n",
       "    <tr>\n",
       "      <th>0</th>\n",
       "      <td>hyper</td>\n",
       "      <td>appliance</td>\n",
       "      <td>259</td>\n",
       "      <td>783</td>\n",
       "      <td>386</td>\n",
       "      <td>325</td>\n",
       "      <td>914</td>\n",
       "      <td>444</td>\n",
       "    </tr>\n",
       "    <tr>\n",
       "      <th>1</th>\n",
       "      <td>hyper</td>\n",
       "      <td>electronics</td>\n",
       "      <td>519</td>\n",
       "      <td>516</td>\n",
       "      <td>599</td>\n",
       "      <td>324</td>\n",
       "      <td>892</td>\n",
       "      <td>366</td>\n",
       "    </tr>\n",
       "    <tr>\n",
       "      <th>2</th>\n",
       "      <td>hyper</td>\n",
       "      <td>hygiene</td>\n",
       "      <td>279</td>\n",
       "      <td>256</td>\n",
       "      <td>258</td>\n",
       "      <td>621</td>\n",
       "      <td>452</td>\n",
       "      <td>754</td>\n",
       "    </tr>\n",
       "    <tr>\n",
       "      <th>3</th>\n",
       "      <td>mega</td>\n",
       "      <td>appliance</td>\n",
       "      <td>735</td>\n",
       "      <td>204</td>\n",
       "      <td>923</td>\n",
       "      <td>717</td>\n",
       "      <td>978</td>\n",
       "      <td>933</td>\n",
       "    </tr>\n",
       "    <tr>\n",
       "      <th>4</th>\n",
       "      <td>mega</td>\n",
       "      <td>electronics</td>\n",
       "      <td>907</td>\n",
       "      <td>976</td>\n",
       "      <td>204</td>\n",
       "      <td>563</td>\n",
       "      <td>651</td>\n",
       "      <td>501</td>\n",
       "    </tr>\n",
       "  </tbody>\n",
       "</table>\n",
       "</div>"
      ],
      "text/plain": [
       "   STORE PRODUCT_GROUP  01_JAN  02_FEB  03_MAR  04_APR  05_MAY  06_JUN\n",
       "0  hyper     appliance     259     783     386     325     914     444\n",
       "1  hyper   electronics     519     516     599     324     892     366\n",
       "2  hyper       hygiene     279     256     258     621     452     754\n",
       "3   mega     appliance     735     204     923     717     978     933\n",
       "4   mega   electronics     907     976     204     563     651     501"
      ]
     },
     "execution_count": 2,
     "metadata": {},
     "output_type": "execute_result"
    }
   ],
   "source": [
    "#1: This looks like \"typical data\" - but it is NOT in tidy long format (non-TDF)\n",
    "df_imp_simp_not_tdf = pd.read_csv('simple_data_NOT_TLF.csv', encoding = 'latin1', sep=';', decimal =',')\n",
    "df_imp_simp_not_tdf.head(5)"
   ]
  },
  {
   "cell_type": "markdown",
   "metadata": {},
   "source": [
    "The \"correct\" TDF-format of this data would rather need to look like this:"
   ]
  },
  {
   "cell_type": "code",
   "execution_count": 3,
   "metadata": {},
   "outputs": [
    {
     "data": {
      "text/html": [
       "<div>\n",
       "<style>\n",
       "    .dataframe thead tr:only-child th {\n",
       "        text-align: right;\n",
       "    }\n",
       "\n",
       "    .dataframe thead th {\n",
       "        text-align: left;\n",
       "    }\n",
       "\n",
       "    .dataframe tbody tr th {\n",
       "        vertical-align: top;\n",
       "    }\n",
       "</style>\n",
       "<table border=\"1\" class=\"dataframe\">\n",
       "  <thead>\n",
       "    <tr style=\"text-align: right;\">\n",
       "      <th></th>\n",
       "      <th>MONTH</th>\n",
       "      <th>STORE</th>\n",
       "      <th>PRODUCT_GROUP</th>\n",
       "      <th>REVENUE</th>\n",
       "    </tr>\n",
       "  </thead>\n",
       "  <tbody>\n",
       "    <tr>\n",
       "      <th>0</th>\n",
       "      <td>01_JAN</td>\n",
       "      <td>mega</td>\n",
       "      <td>appliance</td>\n",
       "      <td>735</td>\n",
       "    </tr>\n",
       "    <tr>\n",
       "      <th>1</th>\n",
       "      <td>01_JAN</td>\n",
       "      <td>hyper</td>\n",
       "      <td>appliance</td>\n",
       "      <td>259</td>\n",
       "    </tr>\n",
       "    <tr>\n",
       "      <th>2</th>\n",
       "      <td>01_JAN</td>\n",
       "      <td>super</td>\n",
       "      <td>appliance</td>\n",
       "      <td>659</td>\n",
       "    </tr>\n",
       "    <tr>\n",
       "      <th>3</th>\n",
       "      <td>01_JAN</td>\n",
       "      <td>mega</td>\n",
       "      <td>electronics</td>\n",
       "      <td>907</td>\n",
       "    </tr>\n",
       "    <tr>\n",
       "      <th>4</th>\n",
       "      <td>01_JAN</td>\n",
       "      <td>hyper</td>\n",
       "      <td>electronics</td>\n",
       "      <td>519</td>\n",
       "    </tr>\n",
       "  </tbody>\n",
       "</table>\n",
       "</div>"
      ],
      "text/plain": [
       "    MONTH  STORE PRODUCT_GROUP  REVENUE\n",
       "0  01_JAN   mega     appliance      735\n",
       "1  01_JAN  hyper     appliance      259\n",
       "2  01_JAN  super     appliance      659\n",
       "3  01_JAN   mega   electronics      907\n",
       "4  01_JAN  hyper   electronics      519"
      ]
     },
     "execution_count": 3,
     "metadata": {},
     "output_type": "execute_result"
    }
   ],
   "source": [
    "df_imp_simp_tdf = pd.read_csv('simple_data_TLF.csv', encoding = 'latin1', sep=';', decimal =',')\n",
    "df_imp_simp_tdf.head(5)"
   ]
  },
  {
   "cell_type": "markdown",
   "metadata": {},
   "source": [
    "The example should make clear where the problem lies: in the NON-TDF-format, the MONTH-__feature__ is organized along columns  and the nature of the __metric__ being REVENUE is only implicitly stated."
   ]
  },
  {
   "cell_type": "markdown",
   "metadata": {},
   "source": [
    "## Why Pivot Tables ?"
   ]
  },
  {
   "cell_type": "markdown",
   "metadata": {
    "collapsed": true
   },
   "source": [
    "Pivot tables are a widely used tool to establish an overview over large and multi-dimensional data sets. They are very useful because:\n",
    "- Pivot tables allow a quick overview over __large and multi-dimensional datasets__ by aggregating information along the desired axis of analysis (aka: the features that represent the dimensions of the data we want to look at)\n",
    "    - The data can easily be hierarchisized  both along rows and columns\n",
    "- Pivot tables provide great input for visualizations\n",
    "- Pivot tables are often the first step in the data processing pipeline from very granular data to further processing on the aggregated form of this data"
   ]
  },
  {
   "cell_type": "markdown",
   "metadata": {
    "collapsed": true
   },
   "source": [
    "## How does an Excel Pivot Table work ?"
   ]
  },
  {
   "cell_type": "markdown",
   "metadata": {
    "collapsed": true
   },
   "source": [
    "A typical Excel Pivot Table with all its constituant elements:"
   ]
  },
  {
   "cell_type": "code",
   "execution_count": 4,
   "metadata": {},
   "outputs": [
    {
     "data": {
      "text/html": [
       "<img src=\"img/Excel_Pivot_Sample1.PNG\">"
      ],
      "text/plain": [
       "<IPython.core.display.HTML object>"
      ]
     },
     "metadata": {},
     "output_type": "display_data"
    }
   ],
   "source": [
    "%%html\n",
    "<img src=\"img/Excel_Pivot_Sample1.PNG\">"
   ]
  },
  {
   "cell_type": "markdown",
   "metadata": {},
   "source": [
    "### The defining elements of a pivot table"
   ]
  },
  {
   "cell_type": "markdown",
   "metadata": {},
   "source": [
    "1. TLF-input\n",
    "2. Filters set on the TLF dataset (optional)\n",
    "3. Feature(s) from dataset to be aggregated along row\n",
    "    * features can be stacked\n",
    "    * Each combination of categorical values of selected row features creates 1 row\n",
    "4. Features from dataset to be aggregated along columns\n",
    "    * features can be stacked\n",
    "    * each combination of categorical values of selected column feature creates 1 column\n",
    "5. Values / metric to be aggregated\n",
    "    * Aggegregation function used to aggegate the chosen metric\n",
    "    * sub-aggregations eventually possible if features are stacked hierarchically in rows and/or columns"
   ]
  },
  {
   "cell_type": "markdown",
   "metadata": {},
   "source": [
    "### Where Excel Pivot Assistant, well, excels:"
   ]
  },
  {
   "cell_type": "markdown",
   "metadata": {},
   "source": [
    "- ad-hoch analysis on existing TLF-data\n",
    "- automatic aggregation on chosen metric"
   ]
  },
  {
   "cell_type": "markdown",
   "metadata": {},
   "source": [
    "### Shortcomings of Excel Pivot Assistant"
   ]
  },
  {
   "cell_type": "markdown",
   "metadata": {},
   "source": [
    "- Data prep for TLF-format\n",
    "- Excel Pivot table is __'irreversible'__\n",
    "    - data modification or enhancement dos not work dynamically on pivot tables, e.g.\n",
    "        - sum() on columns of pivot table\n",
    "        - delta between columns of pivot table\n",
    "    - modified or enhanced data does not 'reversed' to orginal TLF data\n",
    "- Performance on large data sets\n",
    "    - especially in the likely case that features in the TLF data set where enhanced based on a functional calculation (aka: feature value is result of Excel function)\n",
    "        - VLOOKUP()-hell to perform 'binning'"
   ]
  },
  {
   "cell_type": "markdown",
   "metadata": {},
   "source": [
    "# Python Pandas to the rescue...."
   ]
  },
  {
   "cell_type": "markdown",
   "metadata": {},
   "source": [
    "How Pandas can address all limitations inherent to the Excel approach, espacially via the stack/unstack-function on multi-indexed data frames."
   ]
  },
  {
   "cell_type": "markdown",
   "metadata": {},
   "source": [
    "#### Structure of the sample data set we will work with:"
   ]
  },
  {
   "cell_type": "code",
   "execution_count": 5,
   "metadata": {},
   "outputs": [
    {
     "data": {
      "text/html": [
       "<img src=\"img/sample_dataset_structure.PNG\">"
      ],
      "text/plain": [
       "<IPython.core.display.HTML object>"
      ]
     },
     "metadata": {},
     "output_type": "display_data"
    }
   ],
   "source": [
    "%%html\n",
    "<img src=\"img/sample_dataset_structure.PNG\">"
   ]
  },
  {
   "cell_type": "code",
   "execution_count": 6,
   "metadata": {
    "collapsed": true
   },
   "outputs": [],
   "source": [
    "## Or the same in pandas: A neat TLF-format - a rare occurence in real life !\n",
    "df_imp_struct = pd.read_csv('EPiC_dataset_structure.csv', encoding = 'latin1', sep=';', decimal =',')"
   ]
  },
  {
   "cell_type": "code",
   "execution_count": 7,
   "metadata": {},
   "outputs": [
    {
     "data": {
      "text/html": [
       "<div>\n",
       "<style>\n",
       "    .dataframe thead tr:only-child th {\n",
       "        text-align: right;\n",
       "    }\n",
       "\n",
       "    .dataframe thead th {\n",
       "        text-align: left;\n",
       "    }\n",
       "\n",
       "    .dataframe tbody tr th {\n",
       "        vertical-align: top;\n",
       "    }\n",
       "</style>\n",
       "<table border=\"1\" class=\"dataframe\">\n",
       "  <thead>\n",
       "    <tr style=\"text-align: right;\">\n",
       "      <th></th>\n",
       "      <th>long_name</th>\n",
       "      <th>short_name</th>\n",
       "      <th>meaning</th>\n",
       "      <th>example_value</th>\n",
       "    </tr>\n",
       "  </thead>\n",
       "  <tbody>\n",
       "    <tr>\n",
       "      <th>0</th>\n",
       "      <td>timestamp_1</td>\n",
       "      <td>ts1</td>\n",
       "      <td>date</td>\n",
       "      <td>15.12.2018</td>\n",
       "    </tr>\n",
       "    <tr>\n",
       "      <th>1</th>\n",
       "      <td>feature_0_lev1</td>\n",
       "      <td>f0_l1</td>\n",
       "      <td>year</td>\n",
       "      <td>2018</td>\n",
       "    </tr>\n",
       "    <tr>\n",
       "      <th>2</th>\n",
       "      <td>feature_0_lev2</td>\n",
       "      <td>f0_l2</td>\n",
       "      <td>month</td>\n",
       "      <td>12</td>\n",
       "    </tr>\n",
       "    <tr>\n",
       "      <th>3</th>\n",
       "      <td>feature_0_lev3</td>\n",
       "      <td>f0_l3</td>\n",
       "      <td>day</td>\n",
       "      <td>15</td>\n",
       "    </tr>\n",
       "    <tr>\n",
       "      <th>4</th>\n",
       "      <td>feature_1</td>\n",
       "      <td>f1</td>\n",
       "      <td>sales_rep</td>\n",
       "      <td>Wilbur</td>\n",
       "    </tr>\n",
       "    <tr>\n",
       "      <th>5</th>\n",
       "      <td>feature_2</td>\n",
       "      <td>f2</td>\n",
       "      <td>promo</td>\n",
       "      <td>yes</td>\n",
       "    </tr>\n",
       "    <tr>\n",
       "      <th>6</th>\n",
       "      <td>feature_3</td>\n",
       "      <td>f3</td>\n",
       "      <td>customer</td>\n",
       "      <td>metropolis</td>\n",
       "    </tr>\n",
       "    <tr>\n",
       "      <th>7</th>\n",
       "      <td>feature_4_hierarchy_lev1</td>\n",
       "      <td>f4_l1</td>\n",
       "      <td>ctry</td>\n",
       "      <td>Germany</td>\n",
       "    </tr>\n",
       "    <tr>\n",
       "      <th>8</th>\n",
       "      <td>feature_4_hierarchy_lev2</td>\n",
       "      <td>f4_l2</td>\n",
       "      <td>state</td>\n",
       "      <td>BadWurt</td>\n",
       "    </tr>\n",
       "    <tr>\n",
       "      <th>9</th>\n",
       "      <td>feature_4_hierarchy_lev3</td>\n",
       "      <td>f4_l3</td>\n",
       "      <td>city</td>\n",
       "      <td>Freiburg</td>\n",
       "    </tr>\n",
       "    <tr>\n",
       "      <th>10</th>\n",
       "      <td>feature_5_hierarch_lev1</td>\n",
       "      <td>f5_l1</td>\n",
       "      <td>category</td>\n",
       "      <td>stationary</td>\n",
       "    </tr>\n",
       "    <tr>\n",
       "      <th>11</th>\n",
       "      <td>feature_5_hierarchy_lev2</td>\n",
       "      <td>f5_l2</td>\n",
       "      <td>product</td>\n",
       "      <td>pen</td>\n",
       "    </tr>\n",
       "    <tr>\n",
       "      <th>12</th>\n",
       "      <td>metric_1</td>\n",
       "      <td>m1</td>\n",
       "      <td>units</td>\n",
       "      <td>354</td>\n",
       "    </tr>\n",
       "    <tr>\n",
       "      <th>13</th>\n",
       "      <td>metric_2</td>\n",
       "      <td>m2</td>\n",
       "      <td>price</td>\n",
       "      <td>23,95</td>\n",
       "    </tr>\n",
       "    <tr>\n",
       "      <th>14</th>\n",
       "      <td>metric_3</td>\n",
       "      <td>m3</td>\n",
       "      <td>weight</td>\n",
       "      <td>2,82</td>\n",
       "    </tr>\n",
       "  </tbody>\n",
       "</table>\n",
       "</div>"
      ],
      "text/plain": [
       "                   long_name short_name    meaning example_value\n",
       "0                timestamp_1        ts1       date    15.12.2018\n",
       "1             feature_0_lev1      f0_l1       year          2018\n",
       "2             feature_0_lev2      f0_l2      month            12\n",
       "3             feature_0_lev3      f0_l3        day            15\n",
       "4                  feature_1         f1  sales_rep        Wilbur\n",
       "5                  feature_2         f2      promo           yes\n",
       "6                  feature_3         f3   customer    metropolis\n",
       "7   feature_4_hierarchy_lev1      f4_l1       ctry       Germany\n",
       "8   feature_4_hierarchy_lev2      f4_l2      state       BadWurt\n",
       "9   feature_4_hierarchy_lev3      f4_l3       city      Freiburg\n",
       "10   feature_5_hierarch_lev1      f5_l1   category    stationary\n",
       "11  feature_5_hierarchy_lev2      f5_l2    product           pen\n",
       "12                  metric_1         m1      units           354\n",
       "13                  metric_2         m2      price         23,95\n",
       "14                  metric_3         m3     weight          2,82"
      ]
     },
     "execution_count": 7,
     "metadata": {},
     "output_type": "execute_result"
    }
   ],
   "source": [
    "df_imp_struct"
   ]
  },
  {
   "cell_type": "markdown",
   "metadata": {},
   "source": [
    "## Multi-indexed data frame as basis for stacking/unstacking aka pivoting"
   ]
  },
  {
   "cell_type": "markdown",
   "metadata": {},
   "source": [
    "#### Step1: import sampel data set in simple data frame format"
   ]
  },
  {
   "cell_type": "code",
   "execution_count": 8,
   "metadata": {},
   "outputs": [
    {
     "data": {
      "text/html": [
       "<div>\n",
       "<style>\n",
       "    .dataframe thead tr:only-child th {\n",
       "        text-align: right;\n",
       "    }\n",
       "\n",
       "    .dataframe thead th {\n",
       "        text-align: left;\n",
       "    }\n",
       "\n",
       "    .dataframe tbody tr th {\n",
       "        vertical-align: top;\n",
       "    }\n",
       "</style>\n",
       "<table border=\"1\" class=\"dataframe\">\n",
       "  <thead>\n",
       "    <tr style=\"text-align: right;\">\n",
       "      <th></th>\n",
       "      <th>ts1</th>\n",
       "      <th>f0_l1</th>\n",
       "      <th>f0_l2</th>\n",
       "      <th>f0_l3</th>\n",
       "      <th>f1</th>\n",
       "      <th>f2</th>\n",
       "      <th>f3</th>\n",
       "      <th>f4_l1</th>\n",
       "      <th>f4_l2</th>\n",
       "      <th>f4_l3</th>\n",
       "      <th>f5_l1</th>\n",
       "      <th>f5_l2</th>\n",
       "      <th>m1</th>\n",
       "      <th>m2</th>\n",
       "      <th>m3</th>\n",
       "    </tr>\n",
       "  </thead>\n",
       "  <tbody>\n",
       "    <tr>\n",
       "      <th>0</th>\n",
       "      <td>15.12.2018</td>\n",
       "      <td>2018</td>\n",
       "      <td>12</td>\n",
       "      <td>15</td>\n",
       "      <td>Wilbur</td>\n",
       "      <td>yes</td>\n",
       "      <td>metropolis</td>\n",
       "      <td>Germany</td>\n",
       "      <td>BadWurt</td>\n",
       "      <td>Freiburg</td>\n",
       "      <td>stationary</td>\n",
       "      <td>pen</td>\n",
       "      <td>354</td>\n",
       "      <td>23.95</td>\n",
       "      <td>2.82</td>\n",
       "    </tr>\n",
       "    <tr>\n",
       "      <th>1</th>\n",
       "      <td>14.12.2018</td>\n",
       "      <td>2018</td>\n",
       "      <td>12</td>\n",
       "      <td>14</td>\n",
       "      <td>Wilbur</td>\n",
       "      <td>no</td>\n",
       "      <td>smartpoint</td>\n",
       "      <td>Germany</td>\n",
       "      <td>Berlin</td>\n",
       "      <td>Berlin</td>\n",
       "      <td>household</td>\n",
       "      <td>wipes</td>\n",
       "      <td>971</td>\n",
       "      <td>57.05</td>\n",
       "      <td>7.60</td>\n",
       "    </tr>\n",
       "    <tr>\n",
       "      <th>2</th>\n",
       "      <td>22.10.2018</td>\n",
       "      <td>2018</td>\n",
       "      <td>10</td>\n",
       "      <td>22</td>\n",
       "      <td>Greg</td>\n",
       "      <td>yes</td>\n",
       "      <td>thebarn</td>\n",
       "      <td>Germany</td>\n",
       "      <td>Bremen</td>\n",
       "      <td>Bremen</td>\n",
       "      <td>stationary</td>\n",
       "      <td>water colours</td>\n",
       "      <td>142</td>\n",
       "      <td>21.01</td>\n",
       "      <td>3.75</td>\n",
       "    </tr>\n",
       "  </tbody>\n",
       "</table>\n",
       "</div>"
      ],
      "text/plain": [
       "          ts1  f0_l1  f0_l2  f0_l3      f1   f2          f3    f4_l1    f4_l2  \\\n",
       "0  15.12.2018   2018     12     15  Wilbur  yes  metropolis  Germany  BadWurt   \n",
       "1  14.12.2018   2018     12     14  Wilbur   no  smartpoint  Germany   Berlin   \n",
       "2  22.10.2018   2018     10     22    Greg  yes     thebarn  Germany   Bremen   \n",
       "\n",
       "      f4_l3       f5_l1          f5_l2   m1     m2    m3  \n",
       "0  Freiburg  stationary            pen  354  23.95  2.82  \n",
       "1    Berlin   household          wipes  971  57.05  7.60  \n",
       "2    Bremen  stationary  water colours  142  21.01  3.75  "
      ]
     },
     "execution_count": 8,
     "metadata": {},
     "output_type": "execute_result"
    }
   ],
   "source": [
    "df_imp = pd.read_csv('EPiC_dataset.csv', encoding = 'latin1', sep=';', decimal =',')\n",
    "df_imp.head(3)"
   ]
  },
  {
   "cell_type": "markdown",
   "metadata": {},
   "source": [
    "#### Step2: import sampel data set in multi-indexed data frame format"
   ]
  },
  {
   "cell_type": "code",
   "execution_count": 9,
   "metadata": {},
   "outputs": [
    {
     "data": {
      "text/html": [
       "<div>\n",
       "<style>\n",
       "    .dataframe thead tr:only-child th {\n",
       "        text-align: right;\n",
       "    }\n",
       "\n",
       "    .dataframe thead th {\n",
       "        text-align: left;\n",
       "    }\n",
       "\n",
       "    .dataframe tbody tr th {\n",
       "        vertical-align: top;\n",
       "    }\n",
       "</style>\n",
       "<table border=\"1\" class=\"dataframe\">\n",
       "  <thead>\n",
       "    <tr style=\"text-align: right;\">\n",
       "      <th></th>\n",
       "      <th></th>\n",
       "      <th></th>\n",
       "      <th></th>\n",
       "      <th></th>\n",
       "      <th></th>\n",
       "      <th></th>\n",
       "      <th></th>\n",
       "      <th></th>\n",
       "      <th></th>\n",
       "      <th></th>\n",
       "      <th></th>\n",
       "      <th>m1</th>\n",
       "      <th>m2</th>\n",
       "      <th>m3</th>\n",
       "    </tr>\n",
       "    <tr>\n",
       "      <th>ts1</th>\n",
       "      <th>f0_l1</th>\n",
       "      <th>f0_l2</th>\n",
       "      <th>f0_l3</th>\n",
       "      <th>f1</th>\n",
       "      <th>f2</th>\n",
       "      <th>f3</th>\n",
       "      <th>f4_l1</th>\n",
       "      <th>f4_l2</th>\n",
       "      <th>f4_l3</th>\n",
       "      <th>f5_l1</th>\n",
       "      <th>f5_l2</th>\n",
       "      <th></th>\n",
       "      <th></th>\n",
       "      <th></th>\n",
       "    </tr>\n",
       "  </thead>\n",
       "  <tbody>\n",
       "    <tr>\n",
       "      <th>15.12.2018</th>\n",
       "      <th>2018</th>\n",
       "      <th>12</th>\n",
       "      <th>15</th>\n",
       "      <th>Wilbur</th>\n",
       "      <th>yes</th>\n",
       "      <th>metropolis</th>\n",
       "      <th>Germany</th>\n",
       "      <th>BadWurt</th>\n",
       "      <th>Freiburg</th>\n",
       "      <th>stationary</th>\n",
       "      <th>pen</th>\n",
       "      <td>354</td>\n",
       "      <td>23.95</td>\n",
       "      <td>2.82</td>\n",
       "    </tr>\n",
       "    <tr>\n",
       "      <th>14.12.2018</th>\n",
       "      <th>2018</th>\n",
       "      <th>12</th>\n",
       "      <th>14</th>\n",
       "      <th>Wilbur</th>\n",
       "      <th>no</th>\n",
       "      <th>smartpoint</th>\n",
       "      <th>Germany</th>\n",
       "      <th>Berlin</th>\n",
       "      <th>Berlin</th>\n",
       "      <th>household</th>\n",
       "      <th>wipes</th>\n",
       "      <td>971</td>\n",
       "      <td>57.05</td>\n",
       "      <td>7.60</td>\n",
       "    </tr>\n",
       "    <tr>\n",
       "      <th>22.10.2018</th>\n",
       "      <th>2018</th>\n",
       "      <th>10</th>\n",
       "      <th>22</th>\n",
       "      <th>Greg</th>\n",
       "      <th>yes</th>\n",
       "      <th>thebarn</th>\n",
       "      <th>Germany</th>\n",
       "      <th>Bremen</th>\n",
       "      <th>Bremen</th>\n",
       "      <th>stationary</th>\n",
       "      <th>water colours</th>\n",
       "      <td>142</td>\n",
       "      <td>21.01</td>\n",
       "      <td>3.75</td>\n",
       "    </tr>\n",
       "  </tbody>\n",
       "</table>\n",
       "</div>"
      ],
      "text/plain": [
       "                                                                                                       m1  \\\n",
       "ts1        f0_l1 f0_l2 f0_l3 f1     f2  f3         f4_l1   f4_l2   f4_l3    f5_l1      f5_l2                \n",
       "15.12.2018 2018  12    15    Wilbur yes metropolis Germany BadWurt Freiburg stationary pen            354   \n",
       "14.12.2018 2018  12    14    Wilbur no  smartpoint Germany Berlin  Berlin   household  wipes          971   \n",
       "22.10.2018 2018  10    22    Greg   yes thebarn    Germany Bremen  Bremen   stationary water colours  142   \n",
       "\n",
       "                                                                                                         m2  \\\n",
       "ts1        f0_l1 f0_l2 f0_l3 f1     f2  f3         f4_l1   f4_l2   f4_l3    f5_l1      f5_l2                  \n",
       "15.12.2018 2018  12    15    Wilbur yes metropolis Germany BadWurt Freiburg stationary pen            23.95   \n",
       "14.12.2018 2018  12    14    Wilbur no  smartpoint Germany Berlin  Berlin   household  wipes          57.05   \n",
       "22.10.2018 2018  10    22    Greg   yes thebarn    Germany Bremen  Bremen   stationary water colours  21.01   \n",
       "\n",
       "                                                                                                        m3  \n",
       "ts1        f0_l1 f0_l2 f0_l3 f1     f2  f3         f4_l1   f4_l2   f4_l3    f5_l1      f5_l2                \n",
       "15.12.2018 2018  12    15    Wilbur yes metropolis Germany BadWurt Freiburg stationary pen            2.82  \n",
       "14.12.2018 2018  12    14    Wilbur no  smartpoint Germany Berlin  Berlin   household  wipes          7.60  \n",
       "22.10.2018 2018  10    22    Greg   yes thebarn    Germany Bremen  Bremen   stationary water colours  3.75  "
      ]
     },
     "execution_count": 9,
     "metadata": {},
     "output_type": "execute_result"
    }
   ],
   "source": [
    "df_mi_imp = pd.read_csv('EPiC_dataset.csv',encoding = 'latin1', sep=';', \n",
    "                        decimal =',', index_col=[0,1,2,3,4,5,6,7,8,9,10,11])\n",
    "df_mi_imp.head(3)"
   ]
  },
  {
   "cell_type": "code",
   "execution_count": 10,
   "metadata": {},
   "outputs": [
    {
     "data": {
      "text/plain": [
       "FrozenList(['ts1', 'f0_l1', 'f0_l2', 'f0_l3', 'f1', 'f2', 'f3', 'f4_l1', 'f4_l2', 'f4_l3', 'f5_l1', 'f5_l2'])"
      ]
     },
     "execution_count": 10,
     "metadata": {},
     "output_type": "execute_result"
    }
   ],
   "source": [
    "df_mi_imp.index.names"
   ]
  },
  {
   "cell_type": "markdown",
   "metadata": {},
   "source": [
    "#### Step3: compare the difference"
   ]
  },
  {
   "cell_type": "code",
   "execution_count": 11,
   "metadata": {},
   "outputs": [
    {
     "data": {
      "text/plain": [
       "15"
      ]
     },
     "execution_count": 11,
     "metadata": {},
     "output_type": "execute_result"
    }
   ],
   "source": [
    "# width of the \"simple\" data frame\n",
    "len(df_imp.columns)"
   ]
  },
  {
   "cell_type": "code",
   "execution_count": 12,
   "metadata": {},
   "outputs": [
    {
     "data": {
      "text/plain": [
       "3"
      ]
     },
     "execution_count": 12,
     "metadata": {},
     "output_type": "execute_result"
    }
   ],
   "source": [
    "# Fundamental difference:\n",
    "# width of the multi-indexed data frame: only values are \"real\" data columns !\n",
    "len(df_mi_imp.columns)"
   ]
  },
  {
   "cell_type": "markdown",
   "metadata": {},
   "source": [
    "Learning: 'multi-indexing' means: the features are not seen as data themselves, but rather as meta-data organizing the core-data (aka metrics). Stack and unstack can be used to perform pivoting operations on this meta-data structure ! There is a .pivot() and a pivot_table()-method in pandas. Ironically enough, its scope is much more limited, as it performs on a simple data frame, not making full use of the strenght of multi-indexing. So we will solely concentrate on stack/unstack. If you want more information on the other methods:\n",
    "- https://nikgrozev.com/2015/07/01/reshaping-in-pandas-pivot-pivot-table-stack-and-unstack-explained-with-pictures/"
   ]
  },
  {
   "cell_type": "markdown",
   "metadata": {
    "collapsed": true
   },
   "source": [
    "### Finally: let's do some pivoting (stacking/unstacking)"
   ]
  },
  {
   "cell_type": "markdown",
   "metadata": {
    "collapsed": true
   },
   "source": [
    "Typical use case: __aggregate total units in data per state and product category__\n",
    "- state = f4_l2 -> in rows\n",
    "- category = f5_l1 -> in columns\n",
    "- units = m1"
   ]
  },
  {
   "cell_type": "code",
   "execution_count": 13,
   "metadata": {},
   "outputs": [
    {
     "data": {
      "text/html": [
       "<div>\n",
       "<style>\n",
       "    .dataframe thead tr:only-child th {\n",
       "        text-align: right;\n",
       "    }\n",
       "\n",
       "    .dataframe thead th {\n",
       "        text-align: left;\n",
       "    }\n",
       "\n",
       "    .dataframe tbody tr th {\n",
       "        vertical-align: top;\n",
       "    }\n",
       "</style>\n",
       "<table border=\"1\" class=\"dataframe\">\n",
       "  <thead>\n",
       "    <tr>\n",
       "      <th></th>\n",
       "      <th></th>\n",
       "      <th></th>\n",
       "      <th></th>\n",
       "      <th></th>\n",
       "      <th></th>\n",
       "      <th></th>\n",
       "      <th></th>\n",
       "      <th></th>\n",
       "      <th></th>\n",
       "      <th></th>\n",
       "      <th colspan=\"3\" halign=\"left\">m1</th>\n",
       "      <th colspan=\"3\" halign=\"left\">m2</th>\n",
       "      <th colspan=\"3\" halign=\"left\">m3</th>\n",
       "    </tr>\n",
       "    <tr>\n",
       "      <th></th>\n",
       "      <th></th>\n",
       "      <th></th>\n",
       "      <th></th>\n",
       "      <th></th>\n",
       "      <th></th>\n",
       "      <th></th>\n",
       "      <th></th>\n",
       "      <th></th>\n",
       "      <th></th>\n",
       "      <th>f5_l1</th>\n",
       "      <th>appliances</th>\n",
       "      <th>household</th>\n",
       "      <th>stationary</th>\n",
       "      <th>appliances</th>\n",
       "      <th>household</th>\n",
       "      <th>stationary</th>\n",
       "      <th>appliances</th>\n",
       "      <th>household</th>\n",
       "      <th>stationary</th>\n",
       "    </tr>\n",
       "    <tr>\n",
       "      <th>ts1</th>\n",
       "      <th>f0_l1</th>\n",
       "      <th>f0_l2</th>\n",
       "      <th>f0_l3</th>\n",
       "      <th>f1</th>\n",
       "      <th>f2</th>\n",
       "      <th>f3</th>\n",
       "      <th>f4_l1</th>\n",
       "      <th>f4_l2</th>\n",
       "      <th>f4_l3</th>\n",
       "      <th>f5_l2</th>\n",
       "      <th></th>\n",
       "      <th></th>\n",
       "      <th></th>\n",
       "      <th></th>\n",
       "      <th></th>\n",
       "      <th></th>\n",
       "      <th></th>\n",
       "      <th></th>\n",
       "      <th></th>\n",
       "    </tr>\n",
       "  </thead>\n",
       "  <tbody>\n",
       "    <tr>\n",
       "      <th rowspan=\"5\" valign=\"top\">01.10.2018</th>\n",
       "      <th rowspan=\"5\" valign=\"top\">2018</th>\n",
       "      <th rowspan=\"5\" valign=\"top\">10</th>\n",
       "      <th rowspan=\"5\" valign=\"top\">1</th>\n",
       "      <th>Beth</th>\n",
       "      <th>yes</th>\n",
       "      <th>metropolis</th>\n",
       "      <th>Germany</th>\n",
       "      <th>NRW</th>\n",
       "      <th>Cologne</th>\n",
       "      <th>vaccum cleaner</th>\n",
       "      <td>469.0</td>\n",
       "      <td>0.0</td>\n",
       "      <td>0.0</td>\n",
       "      <td>97.67</td>\n",
       "      <td>0.00</td>\n",
       "      <td>0.00</td>\n",
       "      <td>0.26</td>\n",
       "      <td>0.0</td>\n",
       "      <td>0.00</td>\n",
       "    </tr>\n",
       "    <tr>\n",
       "      <th>Darma</th>\n",
       "      <th>yes</th>\n",
       "      <th>care4you</th>\n",
       "      <th>Germany</th>\n",
       "      <th>NRW</th>\n",
       "      <th>Düsseldorf</th>\n",
       "      <th>mixer</th>\n",
       "      <td>98.0</td>\n",
       "      <td>0.0</td>\n",
       "      <td>0.0</td>\n",
       "      <td>56.02</td>\n",
       "      <td>0.00</td>\n",
       "      <td>0.00</td>\n",
       "      <td>0.51</td>\n",
       "      <td>0.0</td>\n",
       "      <td>0.00</td>\n",
       "    </tr>\n",
       "    <tr>\n",
       "      <th>Harry</th>\n",
       "      <th>no</th>\n",
       "      <th>care4you</th>\n",
       "      <th>Germany</th>\n",
       "      <th>Saxony</th>\n",
       "      <th>Dresden</th>\n",
       "      <th>pen</th>\n",
       "      <td>0.0</td>\n",
       "      <td>0.0</td>\n",
       "      <td>183.0</td>\n",
       "      <td>0.00</td>\n",
       "      <td>0.00</td>\n",
       "      <td>60.92</td>\n",
       "      <td>0.00</td>\n",
       "      <td>0.0</td>\n",
       "      <td>7.99</td>\n",
       "    </tr>\n",
       "    <tr>\n",
       "      <th>Susan</th>\n",
       "      <th>yes</th>\n",
       "      <th>dealhouse</th>\n",
       "      <th>Germany</th>\n",
       "      <th>Berlin</th>\n",
       "      <th>Berlin</th>\n",
       "      <th>ball-pen</th>\n",
       "      <td>0.0</td>\n",
       "      <td>0.0</td>\n",
       "      <td>523.0</td>\n",
       "      <td>0.00</td>\n",
       "      <td>0.00</td>\n",
       "      <td>41.50</td>\n",
       "      <td>0.00</td>\n",
       "      <td>0.0</td>\n",
       "      <td>3.51</td>\n",
       "    </tr>\n",
       "    <tr>\n",
       "      <th>Wilbur</th>\n",
       "      <th>no</th>\n",
       "      <th>care4you</th>\n",
       "      <th>Germany</th>\n",
       "      <th>NRW</th>\n",
       "      <th>Essen</th>\n",
       "      <th>wipes</th>\n",
       "      <td>0.0</td>\n",
       "      <td>918.0</td>\n",
       "      <td>0.0</td>\n",
       "      <td>0.00</td>\n",
       "      <td>27.27</td>\n",
       "      <td>0.00</td>\n",
       "      <td>0.00</td>\n",
       "      <td>0.2</td>\n",
       "      <td>0.00</td>\n",
       "    </tr>\n",
       "  </tbody>\n",
       "</table>\n",
       "</div>"
      ],
      "text/plain": [
       "                                                                                                    m1  \\\n",
       "f5_l1                                                                                       appliances   \n",
       "ts1        f0_l1 f0_l2 f0_l3 f1     f2  f3         f4_l1   f4_l2  f4_l3      f5_l2                       \n",
       "01.10.2018 2018  10    1     Beth   yes metropolis Germany NRW    Cologne    vaccum cleaner      469.0   \n",
       "                             Darma  yes care4you   Germany NRW    Düsseldorf mixer                98.0   \n",
       "                             Harry  no  care4you   Germany Saxony Dresden    pen                   0.0   \n",
       "                             Susan  yes dealhouse  Germany Berlin Berlin     ball-pen              0.0   \n",
       "                             Wilbur no  care4you   Germany NRW    Essen      wipes                 0.0   \n",
       "\n",
       "                                                                                                       \\\n",
       "f5_l1                                                                                       household   \n",
       "ts1        f0_l1 f0_l2 f0_l3 f1     f2  f3         f4_l1   f4_l2  f4_l3      f5_l2                      \n",
       "01.10.2018 2018  10    1     Beth   yes metropolis Germany NRW    Cologne    vaccum cleaner       0.0   \n",
       "                             Darma  yes care4you   Germany NRW    Düsseldorf mixer                0.0   \n",
       "                             Harry  no  care4you   Germany Saxony Dresden    pen                  0.0   \n",
       "                             Susan  yes dealhouse  Germany Berlin Berlin     ball-pen             0.0   \n",
       "                             Wilbur no  care4you   Germany NRW    Essen      wipes              918.0   \n",
       "\n",
       "                                                                                                        \\\n",
       "f5_l1                                                                                       stationary   \n",
       "ts1        f0_l1 f0_l2 f0_l3 f1     f2  f3         f4_l1   f4_l2  f4_l3      f5_l2                       \n",
       "01.10.2018 2018  10    1     Beth   yes metropolis Germany NRW    Cologne    vaccum cleaner        0.0   \n",
       "                             Darma  yes care4you   Germany NRW    Düsseldorf mixer                 0.0   \n",
       "                             Harry  no  care4you   Germany Saxony Dresden    pen                 183.0   \n",
       "                             Susan  yes dealhouse  Germany Berlin Berlin     ball-pen            523.0   \n",
       "                             Wilbur no  care4you   Germany NRW    Essen      wipes                 0.0   \n",
       "\n",
       "                                                                                                    m2  \\\n",
       "f5_l1                                                                                       appliances   \n",
       "ts1        f0_l1 f0_l2 f0_l3 f1     f2  f3         f4_l1   f4_l2  f4_l3      f5_l2                       \n",
       "01.10.2018 2018  10    1     Beth   yes metropolis Germany NRW    Cologne    vaccum cleaner      97.67   \n",
       "                             Darma  yes care4you   Germany NRW    Düsseldorf mixer               56.02   \n",
       "                             Harry  no  care4you   Germany Saxony Dresden    pen                  0.00   \n",
       "                             Susan  yes dealhouse  Germany Berlin Berlin     ball-pen             0.00   \n",
       "                             Wilbur no  care4you   Germany NRW    Essen      wipes                0.00   \n",
       "\n",
       "                                                                                                       \\\n",
       "f5_l1                                                                                       household   \n",
       "ts1        f0_l1 f0_l2 f0_l3 f1     f2  f3         f4_l1   f4_l2  f4_l3      f5_l2                      \n",
       "01.10.2018 2018  10    1     Beth   yes metropolis Germany NRW    Cologne    vaccum cleaner      0.00   \n",
       "                             Darma  yes care4you   Germany NRW    Düsseldorf mixer               0.00   \n",
       "                             Harry  no  care4you   Germany Saxony Dresden    pen                 0.00   \n",
       "                             Susan  yes dealhouse  Germany Berlin Berlin     ball-pen            0.00   \n",
       "                             Wilbur no  care4you   Germany NRW    Essen      wipes              27.27   \n",
       "\n",
       "                                                                                                        \\\n",
       "f5_l1                                                                                       stationary   \n",
       "ts1        f0_l1 f0_l2 f0_l3 f1     f2  f3         f4_l1   f4_l2  f4_l3      f5_l2                       \n",
       "01.10.2018 2018  10    1     Beth   yes metropolis Germany NRW    Cologne    vaccum cleaner       0.00   \n",
       "                             Darma  yes care4you   Germany NRW    Düsseldorf mixer                0.00   \n",
       "                             Harry  no  care4you   Germany Saxony Dresden    pen                 60.92   \n",
       "                             Susan  yes dealhouse  Germany Berlin Berlin     ball-pen            41.50   \n",
       "                             Wilbur no  care4you   Germany NRW    Essen      wipes                0.00   \n",
       "\n",
       "                                                                                                    m3  \\\n",
       "f5_l1                                                                                       appliances   \n",
       "ts1        f0_l1 f0_l2 f0_l3 f1     f2  f3         f4_l1   f4_l2  f4_l3      f5_l2                       \n",
       "01.10.2018 2018  10    1     Beth   yes metropolis Germany NRW    Cologne    vaccum cleaner       0.26   \n",
       "                             Darma  yes care4you   Germany NRW    Düsseldorf mixer                0.51   \n",
       "                             Harry  no  care4you   Germany Saxony Dresden    pen                  0.00   \n",
       "                             Susan  yes dealhouse  Germany Berlin Berlin     ball-pen             0.00   \n",
       "                             Wilbur no  care4you   Germany NRW    Essen      wipes                0.00   \n",
       "\n",
       "                                                                                                       \\\n",
       "f5_l1                                                                                       household   \n",
       "ts1        f0_l1 f0_l2 f0_l3 f1     f2  f3         f4_l1   f4_l2  f4_l3      f5_l2                      \n",
       "01.10.2018 2018  10    1     Beth   yes metropolis Germany NRW    Cologne    vaccum cleaner       0.0   \n",
       "                             Darma  yes care4you   Germany NRW    Düsseldorf mixer                0.0   \n",
       "                             Harry  no  care4you   Germany Saxony Dresden    pen                  0.0   \n",
       "                             Susan  yes dealhouse  Germany Berlin Berlin     ball-pen             0.0   \n",
       "                             Wilbur no  care4you   Germany NRW    Essen      wipes                0.2   \n",
       "\n",
       "                                                                                                        \n",
       "f5_l1                                                                                       stationary  \n",
       "ts1        f0_l1 f0_l2 f0_l3 f1     f2  f3         f4_l1   f4_l2  f4_l3      f5_l2                      \n",
       "01.10.2018 2018  10    1     Beth   yes metropolis Germany NRW    Cologne    vaccum cleaner       0.00  \n",
       "                             Darma  yes care4you   Germany NRW    Düsseldorf mixer                0.00  \n",
       "                             Harry  no  care4you   Germany Saxony Dresden    pen                  7.99  \n",
       "                             Susan  yes dealhouse  Germany Berlin Berlin     ball-pen             3.51  \n",
       "                             Wilbur no  care4you   Germany NRW    Essen      wipes                0.00  "
      ]
     },
     "execution_count": 13,
     "metadata": {},
     "output_type": "execute_result"
    }
   ],
   "source": [
    "df_w1 = df_mi_imp.unstack('f5_l1').fillna(0)\n",
    "df_w1.head(5)"
   ]
  },
  {
   "cell_type": "markdown",
   "metadata": {
    "collapsed": true
   },
   "source": [
    "Learnings on first use of .unstack():\n",
    "- makes TLF-format __wider__ by moving selected feature to columns\n",
    "- __.fillna()-parameter must not be forgotten__ to have defined entry for crossing with no data in the TLF\n",
    "    - .fillna(0) mostly good idea due to the need for further calculations\n",
    "- ....oups, there are all 3 metrics in the resulting data frame !\n",
    "- ....oups, and what about the state-level aggregation ???\n",
    "    - This is a shortcoming of Pandas vs. Excel: NO automatic aggregation is taking place when using .unstack(). Aggregation always needs to be done manually\n",
    "    "
   ]
  },
  {
   "cell_type": "markdown",
   "metadata": {
    "collapsed": true
   },
   "source": [
    "### Stacking before unstacking: reduce data frame to series to turn the metrics info into just another categorical feature info\n"
   ]
  },
  {
   "cell_type": "markdown",
   "metadata": {},
   "source": [
    "- maybe we should give the different metrics a meta-name"
   ]
  },
  {
   "cell_type": "code",
   "execution_count": 14,
   "metadata": {},
   "outputs": [
    {
     "data": {
      "text/html": [
       "<div>\n",
       "<style>\n",
       "    .dataframe thead tr:only-child th {\n",
       "        text-align: right;\n",
       "    }\n",
       "\n",
       "    .dataframe thead th {\n",
       "        text-align: left;\n",
       "    }\n",
       "\n",
       "    .dataframe tbody tr th {\n",
       "        vertical-align: top;\n",
       "    }\n",
       "</style>\n",
       "<table border=\"1\" class=\"dataframe\">\n",
       "  <thead>\n",
       "    <tr style=\"text-align: right;\">\n",
       "      <th></th>\n",
       "      <th></th>\n",
       "      <th></th>\n",
       "      <th></th>\n",
       "      <th></th>\n",
       "      <th></th>\n",
       "      <th></th>\n",
       "      <th></th>\n",
       "      <th></th>\n",
       "      <th></th>\n",
       "      <th></th>\n",
       "      <th>METRICS</th>\n",
       "      <th>m1</th>\n",
       "      <th>m2</th>\n",
       "      <th>m3</th>\n",
       "    </tr>\n",
       "    <tr>\n",
       "      <th>ts1</th>\n",
       "      <th>f0_l1</th>\n",
       "      <th>f0_l2</th>\n",
       "      <th>f0_l3</th>\n",
       "      <th>f1</th>\n",
       "      <th>f2</th>\n",
       "      <th>f3</th>\n",
       "      <th>f4_l1</th>\n",
       "      <th>f4_l2</th>\n",
       "      <th>f4_l3</th>\n",
       "      <th>f5_l1</th>\n",
       "      <th>f5_l2</th>\n",
       "      <th></th>\n",
       "      <th></th>\n",
       "      <th></th>\n",
       "    </tr>\n",
       "  </thead>\n",
       "  <tbody>\n",
       "    <tr>\n",
       "      <th>15.12.2018</th>\n",
       "      <th>2018</th>\n",
       "      <th>12</th>\n",
       "      <th>15</th>\n",
       "      <th>Wilbur</th>\n",
       "      <th>yes</th>\n",
       "      <th>metropolis</th>\n",
       "      <th>Germany</th>\n",
       "      <th>BadWurt</th>\n",
       "      <th>Freiburg</th>\n",
       "      <th>stationary</th>\n",
       "      <th>pen</th>\n",
       "      <td>354</td>\n",
       "      <td>23.95</td>\n",
       "      <td>2.82</td>\n",
       "    </tr>\n",
       "    <tr>\n",
       "      <th>14.12.2018</th>\n",
       "      <th>2018</th>\n",
       "      <th>12</th>\n",
       "      <th>14</th>\n",
       "      <th>Wilbur</th>\n",
       "      <th>no</th>\n",
       "      <th>smartpoint</th>\n",
       "      <th>Germany</th>\n",
       "      <th>Berlin</th>\n",
       "      <th>Berlin</th>\n",
       "      <th>household</th>\n",
       "      <th>wipes</th>\n",
       "      <td>971</td>\n",
       "      <td>57.05</td>\n",
       "      <td>7.60</td>\n",
       "    </tr>\n",
       "    <tr>\n",
       "      <th>22.10.2018</th>\n",
       "      <th>2018</th>\n",
       "      <th>10</th>\n",
       "      <th>22</th>\n",
       "      <th>Greg</th>\n",
       "      <th>yes</th>\n",
       "      <th>thebarn</th>\n",
       "      <th>Germany</th>\n",
       "      <th>Bremen</th>\n",
       "      <th>Bremen</th>\n",
       "      <th>stationary</th>\n",
       "      <th>water colours</th>\n",
       "      <td>142</td>\n",
       "      <td>21.01</td>\n",
       "      <td>3.75</td>\n",
       "    </tr>\n",
       "  </tbody>\n",
       "</table>\n",
       "</div>"
      ],
      "text/plain": [
       "METRICS                                                                                                m1  \\\n",
       "ts1        f0_l1 f0_l2 f0_l3 f1     f2  f3         f4_l1   f4_l2   f4_l3    f5_l1      f5_l2                \n",
       "15.12.2018 2018  12    15    Wilbur yes metropolis Germany BadWurt Freiburg stationary pen            354   \n",
       "14.12.2018 2018  12    14    Wilbur no  smartpoint Germany Berlin  Berlin   household  wipes          971   \n",
       "22.10.2018 2018  10    22    Greg   yes thebarn    Germany Bremen  Bremen   stationary water colours  142   \n",
       "\n",
       "METRICS                                                                                                  m2  \\\n",
       "ts1        f0_l1 f0_l2 f0_l3 f1     f2  f3         f4_l1   f4_l2   f4_l3    f5_l1      f5_l2                  \n",
       "15.12.2018 2018  12    15    Wilbur yes metropolis Germany BadWurt Freiburg stationary pen            23.95   \n",
       "14.12.2018 2018  12    14    Wilbur no  smartpoint Germany Berlin  Berlin   household  wipes          57.05   \n",
       "22.10.2018 2018  10    22    Greg   yes thebarn    Germany Bremen  Bremen   stationary water colours  21.01   \n",
       "\n",
       "METRICS                                                                                                 m3  \n",
       "ts1        f0_l1 f0_l2 f0_l3 f1     f2  f3         f4_l1   f4_l2   f4_l3    f5_l1      f5_l2                \n",
       "15.12.2018 2018  12    15    Wilbur yes metropolis Germany BadWurt Freiburg stationary pen            2.82  \n",
       "14.12.2018 2018  12    14    Wilbur no  smartpoint Germany Berlin  Berlin   household  wipes          7.60  \n",
       "22.10.2018 2018  10    22    Greg   yes thebarn    Germany Bremen  Bremen   stationary water colours  3.75  "
      ]
     },
     "execution_count": 14,
     "metadata": {},
     "output_type": "execute_result"
    }
   ],
   "source": [
    "df_w2 = df_mi_imp\n",
    "df_w2.columns.names = ['METRICS']\n",
    "df_w2.head(3)\n",
    "# This step can be skipped with a slight modification to the csv-import format.\n",
    "# How to do this will be shown later in a more complex import example"
   ]
  },
  {
   "cell_type": "markdown",
   "metadata": {},
   "source": [
    "- if .unstack() makes the data __wider__ then .stack() should make it __narrower__"
   ]
  },
  {
   "cell_type": "code",
   "execution_count": 15,
   "metadata": {
    "collapsed": true
   },
   "outputs": [],
   "source": [
    "# now we can use the newly created name....\n",
    "s_w3 = df_w2.stack('METRICS')"
   ]
  },
  {
   "cell_type": "code",
   "execution_count": 16,
   "metadata": {},
   "outputs": [
    {
     "data": {
      "text/plain": [
       "ts1         f0_l1  f0_l2  f0_l3  f1      f2   f3          f4_l1    f4_l2    f4_l3     f5_l1       f5_l2  METRICS\n",
       "15.12.2018  2018   12     15     Wilbur  yes  metropolis  Germany  BadWurt  Freiburg  stationary  pen    m1         354.00\n",
       "                                                                                                         m2          23.95\n",
       "dtype: float64"
      ]
     },
     "execution_count": 16,
     "metadata": {},
     "output_type": "execute_result"
    }
   ],
   "source": [
    "s_w3.head(2)"
   ]
  },
  {
   "cell_type": "markdown",
   "metadata": {},
   "source": [
    "Learning: __Stacking of ALL features including metric reduces the data frame to a series, the lowest possible dimensionality !__ In this representation, every single data point corresponds to one value in the series. ALL structuring information is included in the multi-index"
   ]
  },
  {
   "cell_type": "code",
   "execution_count": 17,
   "metadata": {},
   "outputs": [
    {
     "data": {
      "text/plain": [
       "1500"
      ]
     },
     "execution_count": 17,
     "metadata": {},
     "output_type": "execute_result"
    }
   ],
   "source": [
    "len(s_w3)"
   ]
  },
  {
   "cell_type": "markdown",
   "metadata": {},
   "source": [
    "### Enter the .query()-method to filter multi-indexed data:"
   ]
  },
  {
   "cell_type": "code",
   "execution_count": 18,
   "metadata": {},
   "outputs": [
    {
     "data": {
      "text/html": [
       "<div>\n",
       "<style>\n",
       "    .dataframe thead tr:only-child th {\n",
       "        text-align: right;\n",
       "    }\n",
       "\n",
       "    .dataframe thead th {\n",
       "        text-align: left;\n",
       "    }\n",
       "\n",
       "    .dataframe tbody tr th {\n",
       "        vertical-align: top;\n",
       "    }\n",
       "</style>\n",
       "<table border=\"1\" class=\"dataframe\">\n",
       "  <thead>\n",
       "    <tr style=\"text-align: right;\">\n",
       "      <th></th>\n",
       "      <th></th>\n",
       "      <th></th>\n",
       "      <th></th>\n",
       "      <th></th>\n",
       "      <th></th>\n",
       "      <th></th>\n",
       "      <th></th>\n",
       "      <th></th>\n",
       "      <th></th>\n",
       "      <th></th>\n",
       "      <th>f5_l1</th>\n",
       "      <th>appliances</th>\n",
       "      <th>household</th>\n",
       "      <th>stationary</th>\n",
       "    </tr>\n",
       "    <tr>\n",
       "      <th>ts1</th>\n",
       "      <th>f0_l1</th>\n",
       "      <th>f0_l2</th>\n",
       "      <th>f0_l3</th>\n",
       "      <th>f1</th>\n",
       "      <th>f2</th>\n",
       "      <th>f3</th>\n",
       "      <th>f4_l1</th>\n",
       "      <th>f4_l2</th>\n",
       "      <th>f4_l3</th>\n",
       "      <th>f5_l2</th>\n",
       "      <th>METRICS</th>\n",
       "      <th></th>\n",
       "      <th></th>\n",
       "      <th></th>\n",
       "    </tr>\n",
       "  </thead>\n",
       "  <tbody>\n",
       "    <tr>\n",
       "      <th rowspan=\"3\" valign=\"top\">01.10.2018</th>\n",
       "      <th rowspan=\"3\" valign=\"top\">2018</th>\n",
       "      <th rowspan=\"3\" valign=\"top\">10</th>\n",
       "      <th rowspan=\"3\" valign=\"top\">1</th>\n",
       "      <th rowspan=\"3\" valign=\"top\">Beth</th>\n",
       "      <th rowspan=\"3\" valign=\"top\">yes</th>\n",
       "      <th rowspan=\"3\" valign=\"top\">metropolis</th>\n",
       "      <th rowspan=\"3\" valign=\"top\">Germany</th>\n",
       "      <th rowspan=\"3\" valign=\"top\">NRW</th>\n",
       "      <th rowspan=\"3\" valign=\"top\">Cologne</th>\n",
       "      <th rowspan=\"3\" valign=\"top\">vaccum cleaner</th>\n",
       "      <th>m1</th>\n",
       "      <td>469.00</td>\n",
       "      <td>0.0</td>\n",
       "      <td>0.0</td>\n",
       "    </tr>\n",
       "    <tr>\n",
       "      <th>m2</th>\n",
       "      <td>97.67</td>\n",
       "      <td>0.0</td>\n",
       "      <td>0.0</td>\n",
       "    </tr>\n",
       "    <tr>\n",
       "      <th>m3</th>\n",
       "      <td>0.26</td>\n",
       "      <td>0.0</td>\n",
       "      <td>0.0</td>\n",
       "    </tr>\n",
       "  </tbody>\n",
       "</table>\n",
       "</div>"
      ],
      "text/plain": [
       "f5_l1                                                                                          appliances  \\\n",
       "ts1        f0_l1 f0_l2 f0_l3 f1   f2  f3         f4_l1   f4_l2 f4_l3   f5_l2          METRICS               \n",
       "01.10.2018 2018  10    1     Beth yes metropolis Germany NRW   Cologne vaccum cleaner m1           469.00   \n",
       "                                                                                      m2            97.67   \n",
       "                                                                                      m3             0.26   \n",
       "\n",
       "f5_l1                                                                                          household  \\\n",
       "ts1        f0_l1 f0_l2 f0_l3 f1   f2  f3         f4_l1   f4_l2 f4_l3   f5_l2          METRICS              \n",
       "01.10.2018 2018  10    1     Beth yes metropolis Germany NRW   Cologne vaccum cleaner m1             0.0   \n",
       "                                                                                      m2             0.0   \n",
       "                                                                                      m3             0.0   \n",
       "\n",
       "f5_l1                                                                                          stationary  \n",
       "ts1        f0_l1 f0_l2 f0_l3 f1   f2  f3         f4_l1   f4_l2 f4_l3   f5_l2          METRICS              \n",
       "01.10.2018 2018  10    1     Beth yes metropolis Germany NRW   Cologne vaccum cleaner m1              0.0  \n",
       "                                                                                      m2              0.0  \n",
       "                                                                                      m3              0.0  "
      ]
     },
     "execution_count": 18,
     "metadata": {},
     "output_type": "execute_result"
    }
   ],
   "source": [
    "# Step 1: .unstack() the category information again\n",
    "#          This is important because the .query()-methods does NOT work on a series !\n",
    "df_w4 = s_w3.unstack('f5_l1').fillna(0)\n",
    "df_w4.head(3)"
   ]
  },
  {
   "cell_type": "markdown",
   "metadata": {},
   "source": [
    "Learning: \n",
    "- Now only the categories are in the columns - not the metrics anymore. But all 3 metrics are still in the dataset, just with one entry per row. The METRICS information has basically been swapped from columns to rows.\n",
    "- To achieve the STATE-level aggregation, we must still aggregate the data across the feature we want to see remain (aka  f4_l2 / \"STATE\"\n",
    "    - METRICS is now in .index.names, not .column.names anymore\n",
    "    \n",
    "Next steps:\n",
    "- filtering the dataset to limit it to m1-METRICS values\n",
    "- aggregate data to one row per STATE (f4_l2)"
   ]
  },
  {
   "cell_type": "code",
   "execution_count": 19,
   "metadata": {
    "collapsed": true
   },
   "outputs": [],
   "source": [
    "# Step2: we want to limit the resulting data set just to unit-data,\n",
    "#        so we only need the m1-metric from the newly created multi-indexed data frame\n",
    "#        -> define the criteria in a list allows for quick code adjustments\n",
    "c_metrics = ['m1']"
   ]
  },
  {
   "cell_type": "code",
   "execution_count": 20,
   "metadata": {},
   "outputs": [
    {
     "data": {
      "text/html": [
       "<div>\n",
       "<style>\n",
       "    .dataframe thead tr:only-child th {\n",
       "        text-align: right;\n",
       "    }\n",
       "\n",
       "    .dataframe thead th {\n",
       "        text-align: left;\n",
       "    }\n",
       "\n",
       "    .dataframe tbody tr th {\n",
       "        vertical-align: top;\n",
       "    }\n",
       "</style>\n",
       "<table border=\"1\" class=\"dataframe\">\n",
       "  <thead>\n",
       "    <tr style=\"text-align: right;\">\n",
       "      <th></th>\n",
       "      <th></th>\n",
       "      <th></th>\n",
       "      <th></th>\n",
       "      <th></th>\n",
       "      <th></th>\n",
       "      <th></th>\n",
       "      <th></th>\n",
       "      <th></th>\n",
       "      <th></th>\n",
       "      <th></th>\n",
       "      <th>f5_l1</th>\n",
       "      <th>appliances</th>\n",
       "      <th>household</th>\n",
       "      <th>stationary</th>\n",
       "    </tr>\n",
       "    <tr>\n",
       "      <th>ts1</th>\n",
       "      <th>f0_l1</th>\n",
       "      <th>f0_l2</th>\n",
       "      <th>f0_l3</th>\n",
       "      <th>f1</th>\n",
       "      <th>f2</th>\n",
       "      <th>f3</th>\n",
       "      <th>f4_l1</th>\n",
       "      <th>f4_l2</th>\n",
       "      <th>f4_l3</th>\n",
       "      <th>f5_l2</th>\n",
       "      <th>METRICS</th>\n",
       "      <th></th>\n",
       "      <th></th>\n",
       "      <th></th>\n",
       "    </tr>\n",
       "  </thead>\n",
       "  <tbody>\n",
       "    <tr>\n",
       "      <th rowspan=\"3\" valign=\"top\">01.10.2018</th>\n",
       "      <th rowspan=\"3\" valign=\"top\">2018</th>\n",
       "      <th rowspan=\"3\" valign=\"top\">10</th>\n",
       "      <th rowspan=\"3\" valign=\"top\">1</th>\n",
       "      <th>Beth</th>\n",
       "      <th>yes</th>\n",
       "      <th>metropolis</th>\n",
       "      <th>Germany</th>\n",
       "      <th>NRW</th>\n",
       "      <th>Cologne</th>\n",
       "      <th>vaccum cleaner</th>\n",
       "      <th>m1</th>\n",
       "      <td>469.0</td>\n",
       "      <td>0.0</td>\n",
       "      <td>0.0</td>\n",
       "    </tr>\n",
       "    <tr>\n",
       "      <th>Darma</th>\n",
       "      <th>yes</th>\n",
       "      <th>care4you</th>\n",
       "      <th>Germany</th>\n",
       "      <th>NRW</th>\n",
       "      <th>Düsseldorf</th>\n",
       "      <th>mixer</th>\n",
       "      <th>m1</th>\n",
       "      <td>98.0</td>\n",
       "      <td>0.0</td>\n",
       "      <td>0.0</td>\n",
       "    </tr>\n",
       "    <tr>\n",
       "      <th>Harry</th>\n",
       "      <th>no</th>\n",
       "      <th>care4you</th>\n",
       "      <th>Germany</th>\n",
       "      <th>Saxony</th>\n",
       "      <th>Dresden</th>\n",
       "      <th>pen</th>\n",
       "      <th>m1</th>\n",
       "      <td>0.0</td>\n",
       "      <td>0.0</td>\n",
       "      <td>183.0</td>\n",
       "    </tr>\n",
       "  </tbody>\n",
       "</table>\n",
       "</div>"
      ],
      "text/plain": [
       "f5_l1                                                                                               appliances  \\\n",
       "ts1        f0_l1 f0_l2 f0_l3 f1    f2  f3         f4_l1   f4_l2  f4_l3      f5_l2          METRICS               \n",
       "01.10.2018 2018  10    1     Beth  yes metropolis Germany NRW    Cologne    vaccum cleaner m1            469.0   \n",
       "                             Darma yes care4you   Germany NRW    Düsseldorf mixer          m1             98.0   \n",
       "                             Harry no  care4you   Germany Saxony Dresden    pen            m1              0.0   \n",
       "\n",
       "f5_l1                                                                                               household  \\\n",
       "ts1        f0_l1 f0_l2 f0_l3 f1    f2  f3         f4_l1   f4_l2  f4_l3      f5_l2          METRICS              \n",
       "01.10.2018 2018  10    1     Beth  yes metropolis Germany NRW    Cologne    vaccum cleaner m1             0.0   \n",
       "                             Darma yes care4you   Germany NRW    Düsseldorf mixer          m1             0.0   \n",
       "                             Harry no  care4you   Germany Saxony Dresden    pen            m1             0.0   \n",
       "\n",
       "f5_l1                                                                                               stationary  \n",
       "ts1        f0_l1 f0_l2 f0_l3 f1    f2  f3         f4_l1   f4_l2  f4_l3      f5_l2          METRICS              \n",
       "01.10.2018 2018  10    1     Beth  yes metropolis Germany NRW    Cologne    vaccum cleaner m1              0.0  \n",
       "                             Darma yes care4you   Germany NRW    Düsseldorf mixer          m1              0.0  \n",
       "                             Harry no  care4you   Germany Saxony Dresden    pen            m1            183.0  "
      ]
     },
     "execution_count": 20,
     "metadata": {},
     "output_type": "execute_result"
    }
   ],
   "source": [
    "# Step3: filter the df based on the defined criteria via the .query()-method\n",
    "#        MIND the simple and straight-forward string format of the query argument !!\n",
    "df_w5 = df_w4.query('METRICS == @c_metrics')\n",
    "df_w5.head(3)"
   ]
  },
  {
   "cell_type": "markdown",
   "metadata": {},
   "source": [
    "So we solved the metrics-problem; remains the the aggregation to the state level -> groupby on f4_l2"
   ]
  },
  {
   "cell_type": "code",
   "execution_count": 21,
   "metadata": {
    "collapsed": true
   },
   "outputs": [],
   "source": [
    "l_row_agg = ['f4_l2']"
   ]
  },
  {
   "cell_type": "code",
   "execution_count": 22,
   "metadata": {
    "collapsed": true
   },
   "outputs": [],
   "source": [
    "# now we have everything we need for the aggregation:\n",
    "df_w6 = df_w5.groupby(level = l_row_agg).sum()"
   ]
  },
  {
   "cell_type": "code",
   "execution_count": 23,
   "metadata": {},
   "outputs": [
    {
     "data": {
      "text/html": [
       "<div>\n",
       "<style>\n",
       "    .dataframe thead tr:only-child th {\n",
       "        text-align: right;\n",
       "    }\n",
       "\n",
       "    .dataframe thead th {\n",
       "        text-align: left;\n",
       "    }\n",
       "\n",
       "    .dataframe tbody tr th {\n",
       "        vertical-align: top;\n",
       "    }\n",
       "</style>\n",
       "<table border=\"1\" class=\"dataframe\">\n",
       "  <thead>\n",
       "    <tr style=\"text-align: right;\">\n",
       "      <th>f5_l1</th>\n",
       "      <th>appliances</th>\n",
       "      <th>household</th>\n",
       "      <th>stationary</th>\n",
       "    </tr>\n",
       "    <tr>\n",
       "      <th>f4_l2</th>\n",
       "      <th></th>\n",
       "      <th></th>\n",
       "      <th></th>\n",
       "    </tr>\n",
       "  </thead>\n",
       "  <tbody>\n",
       "    <tr>\n",
       "      <th>BadWurt</th>\n",
       "      <td>10624.0</td>\n",
       "      <td>15941.0</td>\n",
       "      <td>16994.0</td>\n",
       "    </tr>\n",
       "    <tr>\n",
       "      <th>Bavaria</th>\n",
       "      <td>10421.0</td>\n",
       "      <td>11356.0</td>\n",
       "      <td>24719.0</td>\n",
       "    </tr>\n",
       "    <tr>\n",
       "      <th>Berlin</th>\n",
       "      <td>4970.0</td>\n",
       "      <td>2169.0</td>\n",
       "      <td>4246.0</td>\n",
       "    </tr>\n",
       "    <tr>\n",
       "      <th>Bremen</th>\n",
       "      <td>5745.0</td>\n",
       "      <td>4665.0</td>\n",
       "      <td>8792.0</td>\n",
       "    </tr>\n",
       "    <tr>\n",
       "      <th>Hamburg</th>\n",
       "      <td>963.0</td>\n",
       "      <td>4564.0</td>\n",
       "      <td>3732.0</td>\n",
       "    </tr>\n",
       "    <tr>\n",
       "      <th>Hessia</th>\n",
       "      <td>4528.0</td>\n",
       "      <td>3176.0</td>\n",
       "      <td>7719.0</td>\n",
       "    </tr>\n",
       "    <tr>\n",
       "      <th>NRW</th>\n",
       "      <td>24761.0</td>\n",
       "      <td>15041.0</td>\n",
       "      <td>26136.0</td>\n",
       "    </tr>\n",
       "    <tr>\n",
       "      <th>Saxony</th>\n",
       "      <td>4916.0</td>\n",
       "      <td>10055.0</td>\n",
       "      <td>17640.0</td>\n",
       "    </tr>\n",
       "  </tbody>\n",
       "</table>\n",
       "</div>"
      ],
      "text/plain": [
       "f5_l1    appliances  household  stationary\n",
       "f4_l2                                     \n",
       "BadWurt     10624.0    15941.0     16994.0\n",
       "Bavaria     10421.0    11356.0     24719.0\n",
       "Berlin       4970.0     2169.0      4246.0\n",
       "Bremen       5745.0     4665.0      8792.0\n",
       "Hamburg       963.0     4564.0      3732.0\n",
       "Hessia       4528.0     3176.0      7719.0\n",
       "NRW         24761.0    15041.0     26136.0\n",
       "Saxony       4916.0    10055.0     17640.0"
      ]
     },
     "execution_count": 23,
     "metadata": {},
     "output_type": "execute_result"
    }
   ],
   "source": [
    "df_w6"
   ]
  },
  {
   "cell_type": "markdown",
   "metadata": {
    "collapsed": true
   },
   "source": [
    "\n",
    "#### ....et voilà !\n",
    "if we want any other filtering, it's easy to accomplish: just __adjust the filter criteria and the surprisingly straight-forward logic expressed in the .query()-method__\n",
    " - e.g. only get data for the customer care4you [f3] in Bavaria and NRW [f4_l2]"
   ]
  },
  {
   "cell_type": "code",
   "execution_count": 24,
   "metadata": {
    "collapsed": true
   },
   "outputs": [],
   "source": [
    "# Step1: define criteria for metrics\n",
    "c_metrics = ['m1']\n",
    "c_f3 = ['care4you']\n",
    "c_f4_l2 = ['Bavaria', 'NRW']"
   ]
  },
  {
   "cell_type": "code",
   "execution_count": 25,
   "metadata": {
    "collapsed": true
   },
   "outputs": [],
   "source": [
    "# Step2: filter the df based on the defined criteria via the .query()-method\n",
    "df_w7 = df_w4.query('METRICS == @c_metrics & f3 == @c_f3 & f4_l2 == @c_f4_l2')"
   ]
  },
  {
   "cell_type": "code",
   "execution_count": 26,
   "metadata": {},
   "outputs": [
    {
     "data": {
      "text/html": [
       "<div>\n",
       "<style>\n",
       "    .dataframe thead tr:only-child th {\n",
       "        text-align: right;\n",
       "    }\n",
       "\n",
       "    .dataframe thead th {\n",
       "        text-align: left;\n",
       "    }\n",
       "\n",
       "    .dataframe tbody tr th {\n",
       "        vertical-align: top;\n",
       "    }\n",
       "</style>\n",
       "<table border=\"1\" class=\"dataframe\">\n",
       "  <thead>\n",
       "    <tr style=\"text-align: right;\">\n",
       "      <th>f5_l1</th>\n",
       "      <th>appliances</th>\n",
       "      <th>household</th>\n",
       "      <th>stationary</th>\n",
       "    </tr>\n",
       "    <tr>\n",
       "      <th>f4_l2</th>\n",
       "      <th></th>\n",
       "      <th></th>\n",
       "      <th></th>\n",
       "    </tr>\n",
       "  </thead>\n",
       "  <tbody>\n",
       "    <tr>\n",
       "      <th>Bavaria</th>\n",
       "      <td>3631.0</td>\n",
       "      <td>1993.0</td>\n",
       "      <td>4408.0</td>\n",
       "    </tr>\n",
       "    <tr>\n",
       "      <th>NRW</th>\n",
       "      <td>3810.0</td>\n",
       "      <td>2773.0</td>\n",
       "      <td>6431.0</td>\n",
       "    </tr>\n",
       "  </tbody>\n",
       "</table>\n",
       "</div>"
      ],
      "text/plain": [
       "f5_l1    appliances  household  stationary\n",
       "f4_l2                                     \n",
       "Bavaria      3631.0     1993.0      4408.0\n",
       "NRW          3810.0     2773.0      6431.0"
      ]
     },
     "execution_count": 26,
     "metadata": {},
     "output_type": "execute_result"
    }
   ],
   "source": [
    "# Step3: GroupBy-aggregation\n",
    "df_w8 = df_w7.groupby(level = l_row_agg).sum()\n",
    "df_w8"
   ]
  },
  {
   "cell_type": "markdown",
   "metadata": {},
   "source": [
    "All we have seen so far can be done easily in Excel (filtering can become a tedious point&click-orgy very quickly, though). Let us now concentrate on things that Excel cannot do."
   ]
  },
  {
   "cell_type": "markdown",
   "metadata": {},
   "source": [
    "## Where Excel fails part 1: adding calculations"
   ]
  },
  {
   "cell_type": "markdown",
   "metadata": {},
   "source": [
    "- It's next to impossible to use classical functions to perform caculations on values in an Excel Pivot table. Most of the time, this is done by doing a \"copy&paste_value\" of the dynamic pivot table.\n",
    "- This is way more easy in Pandas:\n",
    "    - example use case: We want to compare the unit sales performance per category and product in Bavaria vs. NRW"
   ]
  },
  {
   "cell_type": "code",
   "execution_count": 27,
   "metadata": {},
   "outputs": [
    {
     "data": {
      "text/html": [
       "<div>\n",
       "<style>\n",
       "    .dataframe thead tr:only-child th {\n",
       "        text-align: right;\n",
       "    }\n",
       "\n",
       "    .dataframe thead th {\n",
       "        text-align: left;\n",
       "    }\n",
       "\n",
       "    .dataframe tbody tr th {\n",
       "        vertical-align: top;\n",
       "    }\n",
       "</style>\n",
       "<table border=\"1\" class=\"dataframe\">\n",
       "  <thead>\n",
       "    <tr style=\"text-align: right;\">\n",
       "      <th></th>\n",
       "      <th></th>\n",
       "      <th></th>\n",
       "      <th></th>\n",
       "      <th></th>\n",
       "      <th></th>\n",
       "      <th></th>\n",
       "      <th></th>\n",
       "      <th></th>\n",
       "      <th></th>\n",
       "      <th></th>\n",
       "      <th>f0_l1</th>\n",
       "      <th>2018</th>\n",
       "    </tr>\n",
       "    <tr>\n",
       "      <th>ts1</th>\n",
       "      <th>f0_l2</th>\n",
       "      <th>f0_l3</th>\n",
       "      <th>f1</th>\n",
       "      <th>f2</th>\n",
       "      <th>f3</th>\n",
       "      <th>f4_l1</th>\n",
       "      <th>f4_l2</th>\n",
       "      <th>f4_l3</th>\n",
       "      <th>f5_l1</th>\n",
       "      <th>f5_l2</th>\n",
       "      <th>METRICS</th>\n",
       "      <th></th>\n",
       "    </tr>\n",
       "  </thead>\n",
       "  <tbody>\n",
       "    <tr>\n",
       "      <th rowspan=\"3\" valign=\"top\">01.10.2018</th>\n",
       "      <th rowspan=\"3\" valign=\"top\">10</th>\n",
       "      <th rowspan=\"3\" valign=\"top\">1</th>\n",
       "      <th rowspan=\"3\" valign=\"top\">Beth</th>\n",
       "      <th rowspan=\"3\" valign=\"top\">yes</th>\n",
       "      <th rowspan=\"3\" valign=\"top\">metropolis</th>\n",
       "      <th rowspan=\"3\" valign=\"top\">Germany</th>\n",
       "      <th rowspan=\"3\" valign=\"top\">NRW</th>\n",
       "      <th rowspan=\"3\" valign=\"top\">Cologne</th>\n",
       "      <th rowspan=\"3\" valign=\"top\">appliances</th>\n",
       "      <th rowspan=\"3\" valign=\"top\">vaccum cleaner</th>\n",
       "      <th>m1</th>\n",
       "      <td>469.00</td>\n",
       "    </tr>\n",
       "    <tr>\n",
       "      <th>m2</th>\n",
       "      <td>97.67</td>\n",
       "    </tr>\n",
       "    <tr>\n",
       "      <th>m3</th>\n",
       "      <td>0.26</td>\n",
       "    </tr>\n",
       "  </tbody>\n",
       "</table>\n",
       "</div>"
      ],
      "text/plain": [
       "f0_l1                                                                                                 2018\n",
       "ts1        f0_l2 f0_l3 f1   f2  f3         f4_l1   f4_l2 f4_l3   f5_l1      f5_l2          METRICS        \n",
       "01.10.2018 10    1     Beth yes metropolis Germany NRW   Cologne appliances vaccum cleaner m1       469.00\n",
       "                                                                                           m2        97.67\n",
       "                                                                                           m3         0.26"
      ]
     },
     "execution_count": 27,
     "metadata": {},
     "output_type": "execute_result"
    }
   ],
   "source": [
    "df_w9 = s_w3.unstack('f0_l1').fillna(0)\n",
    "# This is a trick to transform the series to a dataframe with a single column\n",
    "# so that the .query()-method can be used.\n",
    "# Incidently, there is only ONE categorical value for the feature f0_l1 in the entire dataset\n",
    "# as all data is from 2018.\n",
    "# It's never a bad idea to have one feature with the same value for ALL data points\n",
    "# in a TLF-dataset :-)\n",
    "df_w9.head(3)"
   ]
  },
  {
   "cell_type": "code",
   "execution_count": 28,
   "metadata": {
    "collapsed": true
   },
   "outputs": [],
   "source": [
    "# Step1: define criteria for metrics\n",
    "c_metrics = ['m1']\n",
    "c_f4_l2 = ['Bavaria', 'NRW']"
   ]
  },
  {
   "cell_type": "code",
   "execution_count": 29,
   "metadata": {},
   "outputs": [
    {
     "data": {
      "text/html": [
       "<div>\n",
       "<style>\n",
       "    .dataframe thead tr:only-child th {\n",
       "        text-align: right;\n",
       "    }\n",
       "\n",
       "    .dataframe thead th {\n",
       "        text-align: left;\n",
       "    }\n",
       "\n",
       "    .dataframe tbody tr th {\n",
       "        vertical-align: top;\n",
       "    }\n",
       "</style>\n",
       "<table border=\"1\" class=\"dataframe\">\n",
       "  <thead>\n",
       "    <tr style=\"text-align: right;\">\n",
       "      <th></th>\n",
       "      <th></th>\n",
       "      <th></th>\n",
       "      <th></th>\n",
       "      <th></th>\n",
       "      <th></th>\n",
       "      <th></th>\n",
       "      <th></th>\n",
       "      <th></th>\n",
       "      <th></th>\n",
       "      <th></th>\n",
       "      <th>f0_l1</th>\n",
       "      <th>2018</th>\n",
       "    </tr>\n",
       "    <tr>\n",
       "      <th>ts1</th>\n",
       "      <th>f0_l2</th>\n",
       "      <th>f0_l3</th>\n",
       "      <th>f1</th>\n",
       "      <th>f2</th>\n",
       "      <th>f3</th>\n",
       "      <th>f4_l1</th>\n",
       "      <th>f4_l2</th>\n",
       "      <th>f4_l3</th>\n",
       "      <th>f5_l1</th>\n",
       "      <th>f5_l2</th>\n",
       "      <th>METRICS</th>\n",
       "      <th></th>\n",
       "    </tr>\n",
       "  </thead>\n",
       "  <tbody>\n",
       "    <tr>\n",
       "      <th rowspan=\"3\" valign=\"top\">01.10.2018</th>\n",
       "      <th rowspan=\"3\" valign=\"top\">10</th>\n",
       "      <th rowspan=\"3\" valign=\"top\">1</th>\n",
       "      <th>Beth</th>\n",
       "      <th>yes</th>\n",
       "      <th>metropolis</th>\n",
       "      <th>Germany</th>\n",
       "      <th>NRW</th>\n",
       "      <th>Cologne</th>\n",
       "      <th>appliances</th>\n",
       "      <th>vaccum cleaner</th>\n",
       "      <th>m1</th>\n",
       "      <td>469.0</td>\n",
       "    </tr>\n",
       "    <tr>\n",
       "      <th>Darma</th>\n",
       "      <th>yes</th>\n",
       "      <th>care4you</th>\n",
       "      <th>Germany</th>\n",
       "      <th>NRW</th>\n",
       "      <th>Düsseldorf</th>\n",
       "      <th>appliances</th>\n",
       "      <th>mixer</th>\n",
       "      <th>m1</th>\n",
       "      <td>98.0</td>\n",
       "    </tr>\n",
       "    <tr>\n",
       "      <th>Wilbur</th>\n",
       "      <th>no</th>\n",
       "      <th>care4you</th>\n",
       "      <th>Germany</th>\n",
       "      <th>NRW</th>\n",
       "      <th>Essen</th>\n",
       "      <th>household</th>\n",
       "      <th>wipes</th>\n",
       "      <th>m1</th>\n",
       "      <td>918.0</td>\n",
       "    </tr>\n",
       "  </tbody>\n",
       "</table>\n",
       "</div>"
      ],
      "text/plain": [
       "f0_l1                                                                                                     2018\n",
       "ts1        f0_l2 f0_l3 f1     f2  f3         f4_l1   f4_l2 f4_l3      f5_l1      f5_l2          METRICS       \n",
       "01.10.2018 10    1     Beth   yes metropolis Germany NRW   Cologne    appliances vaccum cleaner m1       469.0\n",
       "                       Darma  yes care4you   Germany NRW   Düsseldorf appliances mixer          m1        98.0\n",
       "                       Wilbur no  care4you   Germany NRW   Essen      household  wipes          m1       918.0"
      ]
     },
     "execution_count": 29,
     "metadata": {},
     "output_type": "execute_result"
    }
   ],
   "source": [
    "# Step2: filter the df based on the defined criteria via the .query()-method\n",
    "df_w10 = df_w9.query('METRICS == @c_metrics & f4_l2 == @c_f4_l2')\n",
    "df_w10.head(3)"
   ]
  },
  {
   "cell_type": "code",
   "execution_count": 30,
   "metadata": {},
   "outputs": [
    {
     "data": {
      "text/html": [
       "<div>\n",
       "<style>\n",
       "    .dataframe thead tr:only-child th {\n",
       "        text-align: right;\n",
       "    }\n",
       "\n",
       "    .dataframe thead th {\n",
       "        text-align: left;\n",
       "    }\n",
       "\n",
       "    .dataframe tbody tr th {\n",
       "        vertical-align: top;\n",
       "    }\n",
       "</style>\n",
       "<table border=\"1\" class=\"dataframe\">\n",
       "  <thead>\n",
       "    <tr style=\"text-align: right;\">\n",
       "      <th></th>\n",
       "      <th></th>\n",
       "      <th></th>\n",
       "      <th></th>\n",
       "      <th></th>\n",
       "      <th></th>\n",
       "      <th></th>\n",
       "      <th></th>\n",
       "      <th></th>\n",
       "      <th></th>\n",
       "      <th></th>\n",
       "      <th>f4_l2</th>\n",
       "      <th>Bavaria</th>\n",
       "      <th>NRW</th>\n",
       "    </tr>\n",
       "    <tr>\n",
       "      <th>ts1</th>\n",
       "      <th>f0_l2</th>\n",
       "      <th>f0_l3</th>\n",
       "      <th>f1</th>\n",
       "      <th>f2</th>\n",
       "      <th>f3</th>\n",
       "      <th>f4_l1</th>\n",
       "      <th>f4_l3</th>\n",
       "      <th>f5_l1</th>\n",
       "      <th>f5_l2</th>\n",
       "      <th>METRICS</th>\n",
       "      <th>f0_l1</th>\n",
       "      <th></th>\n",
       "      <th></th>\n",
       "    </tr>\n",
       "  </thead>\n",
       "  <tbody>\n",
       "    <tr>\n",
       "      <th rowspan=\"3\" valign=\"top\">01.10.2018</th>\n",
       "      <th rowspan=\"3\" valign=\"top\">10</th>\n",
       "      <th rowspan=\"3\" valign=\"top\">1</th>\n",
       "      <th>Beth</th>\n",
       "      <th>yes</th>\n",
       "      <th>metropolis</th>\n",
       "      <th>Germany</th>\n",
       "      <th>Cologne</th>\n",
       "      <th>appliances</th>\n",
       "      <th>vaccum cleaner</th>\n",
       "      <th>m1</th>\n",
       "      <th>2018</th>\n",
       "      <td>0.0</td>\n",
       "      <td>469.0</td>\n",
       "    </tr>\n",
       "    <tr>\n",
       "      <th>Darma</th>\n",
       "      <th>yes</th>\n",
       "      <th>care4you</th>\n",
       "      <th>Germany</th>\n",
       "      <th>Düsseldorf</th>\n",
       "      <th>appliances</th>\n",
       "      <th>mixer</th>\n",
       "      <th>m1</th>\n",
       "      <th>2018</th>\n",
       "      <td>0.0</td>\n",
       "      <td>98.0</td>\n",
       "    </tr>\n",
       "    <tr>\n",
       "      <th>Wilbur</th>\n",
       "      <th>no</th>\n",
       "      <th>care4you</th>\n",
       "      <th>Germany</th>\n",
       "      <th>Essen</th>\n",
       "      <th>household</th>\n",
       "      <th>wipes</th>\n",
       "      <th>m1</th>\n",
       "      <th>2018</th>\n",
       "      <td>0.0</td>\n",
       "      <td>918.0</td>\n",
       "    </tr>\n",
       "  </tbody>\n",
       "</table>\n",
       "</div>"
      ],
      "text/plain": [
       "f4_l2                                                                                                    Bavaria  \\\n",
       "ts1        f0_l2 f0_l3 f1     f2  f3         f4_l1   f4_l3      f5_l1      f5_l2          METRICS f0_l1            \n",
       "01.10.2018 10    1     Beth   yes metropolis Germany Cologne    appliances vaccum cleaner m1      2018       0.0   \n",
       "                       Darma  yes care4you   Germany Düsseldorf appliances mixer          m1      2018       0.0   \n",
       "                       Wilbur no  care4you   Germany Essen      household  wipes          m1      2018       0.0   \n",
       "\n",
       "f4_l2                                                                                                      NRW  \n",
       "ts1        f0_l2 f0_l3 f1     f2  f3         f4_l1   f4_l3      f5_l1      f5_l2          METRICS f0_l1         \n",
       "01.10.2018 10    1     Beth   yes metropolis Germany Cologne    appliances vaccum cleaner m1      2018   469.0  \n",
       "                       Darma  yes care4you   Germany Düsseldorf appliances mixer          m1      2018    98.0  \n",
       "                       Wilbur no  care4you   Germany Essen      household  wipes          m1      2018   918.0  "
      ]
     },
     "execution_count": 30,
     "metadata": {},
     "output_type": "execute_result"
    }
   ],
   "source": [
    "# Step3: re-assign columns: 2018 [f0_l1] goes back to rows, state [f4_l2] goes to columns\n",
    "s_w11 = df_w10.stack('f0_l1')\n",
    "df_w12 = s_w11.unstack('f4_l2').fillna(0)\n",
    "df_w12.head(3)"
   ]
  },
  {
   "cell_type": "code",
   "execution_count": 31,
   "metadata": {},
   "outputs": [
    {
     "data": {
      "text/html": [
       "<div>\n",
       "<style>\n",
       "    .dataframe thead tr:only-child th {\n",
       "        text-align: right;\n",
       "    }\n",
       "\n",
       "    .dataframe thead th {\n",
       "        text-align: left;\n",
       "    }\n",
       "\n",
       "    .dataframe tbody tr th {\n",
       "        vertical-align: top;\n",
       "    }\n",
       "</style>\n",
       "<table border=\"1\" class=\"dataframe\">\n",
       "  <thead>\n",
       "    <tr style=\"text-align: right;\">\n",
       "      <th></th>\n",
       "      <th>f4_l2</th>\n",
       "      <th>Bavaria</th>\n",
       "      <th>NRW</th>\n",
       "    </tr>\n",
       "    <tr>\n",
       "      <th>f5_l1</th>\n",
       "      <th>f5_l2</th>\n",
       "      <th></th>\n",
       "      <th></th>\n",
       "    </tr>\n",
       "  </thead>\n",
       "  <tbody>\n",
       "    <tr>\n",
       "      <th rowspan=\"3\" valign=\"top\">appliances</th>\n",
       "      <th>micro wave oven</th>\n",
       "      <td>2603.0</td>\n",
       "      <td>7278.0</td>\n",
       "    </tr>\n",
       "    <tr>\n",
       "      <th>mixer</th>\n",
       "      <td>4083.0</td>\n",
       "      <td>6879.0</td>\n",
       "    </tr>\n",
       "    <tr>\n",
       "      <th>vaccum cleaner</th>\n",
       "      <td>3735.0</td>\n",
       "      <td>10604.0</td>\n",
       "    </tr>\n",
       "    <tr>\n",
       "      <th rowspan=\"4\" valign=\"top\">household</th>\n",
       "      <th>gloves</th>\n",
       "      <td>939.0</td>\n",
       "      <td>5382.0</td>\n",
       "    </tr>\n",
       "    <tr>\n",
       "      <th>towls</th>\n",
       "      <td>3337.0</td>\n",
       "      <td>1723.0</td>\n",
       "    </tr>\n",
       "    <tr>\n",
       "      <th>waste bags</th>\n",
       "      <td>4235.0</td>\n",
       "      <td>2892.0</td>\n",
       "    </tr>\n",
       "    <tr>\n",
       "      <th>wipes</th>\n",
       "      <td>2845.0</td>\n",
       "      <td>5044.0</td>\n",
       "    </tr>\n",
       "    <tr>\n",
       "      <th rowspan=\"5\" valign=\"top\">stationary</th>\n",
       "      <th>ball-pen</th>\n",
       "      <td>6502.0</td>\n",
       "      <td>3853.0</td>\n",
       "    </tr>\n",
       "    <tr>\n",
       "      <th>marker</th>\n",
       "      <td>6177.0</td>\n",
       "      <td>4391.0</td>\n",
       "    </tr>\n",
       "    <tr>\n",
       "      <th>pen</th>\n",
       "      <td>4359.0</td>\n",
       "      <td>5855.0</td>\n",
       "    </tr>\n",
       "    <tr>\n",
       "      <th>pencil</th>\n",
       "      <td>5239.0</td>\n",
       "      <td>3808.0</td>\n",
       "    </tr>\n",
       "    <tr>\n",
       "      <th>water colours</th>\n",
       "      <td>2442.0</td>\n",
       "      <td>8229.0</td>\n",
       "    </tr>\n",
       "  </tbody>\n",
       "</table>\n",
       "</div>"
      ],
      "text/plain": [
       "f4_l2                       Bavaria      NRW\n",
       "f5_l1      f5_l2                            \n",
       "appliances micro wave oven   2603.0   7278.0\n",
       "           mixer             4083.0   6879.0\n",
       "           vaccum cleaner    3735.0  10604.0\n",
       "household  gloves             939.0   5382.0\n",
       "           towls             3337.0   1723.0\n",
       "           waste bags        4235.0   2892.0\n",
       "           wipes             2845.0   5044.0\n",
       "stationary ball-pen          6502.0   3853.0\n",
       "           marker            6177.0   4391.0\n",
       "           pen               4359.0   5855.0\n",
       "           pencil            5239.0   3808.0\n",
       "           water colours     2442.0   8229.0"
      ]
     },
     "execution_count": 31,
     "metadata": {},
     "output_type": "execute_result"
    }
   ],
   "source": [
    "# Step4: aggregation along the desired features category & products\n",
    "l_row_agg = ['f5_l1', 'f5_l2']\n",
    "df_w13 = df_w12.groupby(level = l_row_agg).sum()\n",
    "df_w13"
   ]
  },
  {
   "cell_type": "markdown",
   "metadata": {
    "collapsed": true
   },
   "source": [
    "Now we want to compare the figures \"NRW vs. Bavaria\", both as absolute delta and as percentage difference:"
   ]
  },
  {
   "cell_type": "code",
   "execution_count": 32,
   "metadata": {},
   "outputs": [
    {
     "data": {
      "text/html": [
       "<div>\n",
       "<style>\n",
       "    .dataframe thead tr:only-child th {\n",
       "        text-align: right;\n",
       "    }\n",
       "\n",
       "    .dataframe thead th {\n",
       "        text-align: left;\n",
       "    }\n",
       "\n",
       "    .dataframe tbody tr th {\n",
       "        vertical-align: top;\n",
       "    }\n",
       "</style>\n",
       "<table border=\"1\" class=\"dataframe\">\n",
       "  <thead>\n",
       "    <tr style=\"text-align: right;\">\n",
       "      <th></th>\n",
       "      <th>f4_l2</th>\n",
       "      <th>Bavaria</th>\n",
       "      <th>NRW</th>\n",
       "      <th>DELTAabs</th>\n",
       "      <th>DELTAper</th>\n",
       "    </tr>\n",
       "    <tr>\n",
       "      <th>f5_l1</th>\n",
       "      <th>f5_l2</th>\n",
       "      <th></th>\n",
       "      <th></th>\n",
       "      <th></th>\n",
       "      <th></th>\n",
       "    </tr>\n",
       "  </thead>\n",
       "  <tbody>\n",
       "    <tr>\n",
       "      <th rowspan=\"3\" valign=\"top\">appliances</th>\n",
       "      <th>micro wave oven</th>\n",
       "      <td>2603.0</td>\n",
       "      <td>7278.0</td>\n",
       "      <td>4675.0</td>\n",
       "      <td>179.600461</td>\n",
       "    </tr>\n",
       "    <tr>\n",
       "      <th>mixer</th>\n",
       "      <td>4083.0</td>\n",
       "      <td>6879.0</td>\n",
       "      <td>2796.0</td>\n",
       "      <td>68.479060</td>\n",
       "    </tr>\n",
       "    <tr>\n",
       "      <th>vaccum cleaner</th>\n",
       "      <td>3735.0</td>\n",
       "      <td>10604.0</td>\n",
       "      <td>6869.0</td>\n",
       "      <td>183.908969</td>\n",
       "    </tr>\n",
       "    <tr>\n",
       "      <th rowspan=\"4\" valign=\"top\">household</th>\n",
       "      <th>gloves</th>\n",
       "      <td>939.0</td>\n",
       "      <td>5382.0</td>\n",
       "      <td>4443.0</td>\n",
       "      <td>473.162939</td>\n",
       "    </tr>\n",
       "    <tr>\n",
       "      <th>towls</th>\n",
       "      <td>3337.0</td>\n",
       "      <td>1723.0</td>\n",
       "      <td>-1614.0</td>\n",
       "      <td>-48.366797</td>\n",
       "    </tr>\n",
       "    <tr>\n",
       "      <th>waste bags</th>\n",
       "      <td>4235.0</td>\n",
       "      <td>2892.0</td>\n",
       "      <td>-1343.0</td>\n",
       "      <td>-31.711924</td>\n",
       "    </tr>\n",
       "    <tr>\n",
       "      <th>wipes</th>\n",
       "      <td>2845.0</td>\n",
       "      <td>5044.0</td>\n",
       "      <td>2199.0</td>\n",
       "      <td>77.293497</td>\n",
       "    </tr>\n",
       "    <tr>\n",
       "      <th rowspan=\"5\" valign=\"top\">stationary</th>\n",
       "      <th>ball-pen</th>\n",
       "      <td>6502.0</td>\n",
       "      <td>3853.0</td>\n",
       "      <td>-2649.0</td>\n",
       "      <td>-40.741310</td>\n",
       "    </tr>\n",
       "    <tr>\n",
       "      <th>marker</th>\n",
       "      <td>6177.0</td>\n",
       "      <td>4391.0</td>\n",
       "      <td>-1786.0</td>\n",
       "      <td>-28.913712</td>\n",
       "    </tr>\n",
       "    <tr>\n",
       "      <th>pen</th>\n",
       "      <td>4359.0</td>\n",
       "      <td>5855.0</td>\n",
       "      <td>1496.0</td>\n",
       "      <td>34.319798</td>\n",
       "    </tr>\n",
       "    <tr>\n",
       "      <th>pencil</th>\n",
       "      <td>5239.0</td>\n",
       "      <td>3808.0</td>\n",
       "      <td>-1431.0</td>\n",
       "      <td>-27.314373</td>\n",
       "    </tr>\n",
       "    <tr>\n",
       "      <th>water colours</th>\n",
       "      <td>2442.0</td>\n",
       "      <td>8229.0</td>\n",
       "      <td>5787.0</td>\n",
       "      <td>236.977887</td>\n",
       "    </tr>\n",
       "  </tbody>\n",
       "</table>\n",
       "</div>"
      ],
      "text/plain": [
       "f4_l2                       Bavaria      NRW  DELTAabs    DELTAper\n",
       "f5_l1      f5_l2                                                  \n",
       "appliances micro wave oven   2603.0   7278.0    4675.0  179.600461\n",
       "           mixer             4083.0   6879.0    2796.0   68.479060\n",
       "           vaccum cleaner    3735.0  10604.0    6869.0  183.908969\n",
       "household  gloves             939.0   5382.0    4443.0  473.162939\n",
       "           towls             3337.0   1723.0   -1614.0  -48.366797\n",
       "           waste bags        4235.0   2892.0   -1343.0  -31.711924\n",
       "           wipes             2845.0   5044.0    2199.0   77.293497\n",
       "stationary ball-pen          6502.0   3853.0   -2649.0  -40.741310\n",
       "           marker            6177.0   4391.0   -1786.0  -28.913712\n",
       "           pen               4359.0   5855.0    1496.0   34.319798\n",
       "           pencil            5239.0   3808.0   -1431.0  -27.314373\n",
       "           water colours     2442.0   8229.0    5787.0  236.977887"
      ]
     },
     "execution_count": 32,
     "metadata": {},
     "output_type": "execute_result"
    }
   ],
   "source": [
    "df_w13 = df_w13.assign(DELTAabs = lambda x: x.NRW - x.Bavaria)\n",
    "df_w13 = df_w13.assign(DELTAper = lambda x: ((x.NRW / x.Bavaria)-1)*100)\n",
    "\n",
    "# df_w13['DELTAabs'] = df_w13['NRW']-df_w13['Bavaria']\n",
    "# df_w13['DELTAper'] = ((df_w13['NRW']/df_w13['Bavaria'])-1)*100\n",
    "\n",
    "df_w13"
   ]
  },
  {
   "cell_type": "code",
   "execution_count": 33,
   "metadata": {},
   "outputs": [
    {
     "data": {
      "text/plain": [
       "FrozenList(['f4_l2'])"
      ]
     },
     "execution_count": 33,
     "metadata": {},
     "output_type": "execute_result"
    }
   ],
   "source": [
    "df_w13.columns.names\n",
    "# df_w13.index.names"
   ]
  },
  {
   "cell_type": "code",
   "execution_count": 34,
   "metadata": {},
   "outputs": [
    {
     "data": {
      "text/plain": [
       "array(['Bavaria', 'NRW', 'DELTAabs', 'DELTAper'], dtype=object)"
      ]
     },
     "execution_count": 34,
     "metadata": {},
     "output_type": "execute_result"
    }
   ],
   "source": [
    "df_w13.columns.values\n",
    "#df_w13.index.values"
   ]
  },
  {
   "cell_type": "markdown",
   "metadata": {},
   "source": [
    "## New METRICS can be calculated for the entire data set, e.g. revenue as METRIC m4"
   ]
  },
  {
   "cell_type": "markdown",
   "metadata": {},
   "source": [
    "....you may have noticed that the metrics did contain a unit and a price info, but no revenue info, so it may be worth to add it."
   ]
  },
  {
   "cell_type": "code",
   "execution_count": 35,
   "metadata": {},
   "outputs": [
    {
     "data": {
      "text/html": [
       "<div>\n",
       "<style>\n",
       "    .dataframe thead tr:only-child th {\n",
       "        text-align: right;\n",
       "    }\n",
       "\n",
       "    .dataframe thead th {\n",
       "        text-align: left;\n",
       "    }\n",
       "\n",
       "    .dataframe tbody tr th {\n",
       "        vertical-align: top;\n",
       "    }\n",
       "</style>\n",
       "<table border=\"1\" class=\"dataframe\">\n",
       "  <thead>\n",
       "    <tr style=\"text-align: right;\">\n",
       "      <th></th>\n",
       "      <th></th>\n",
       "      <th></th>\n",
       "      <th></th>\n",
       "      <th></th>\n",
       "      <th></th>\n",
       "      <th></th>\n",
       "      <th></th>\n",
       "      <th></th>\n",
       "      <th></th>\n",
       "      <th></th>\n",
       "      <th>METRICS</th>\n",
       "      <th>m1</th>\n",
       "      <th>m2</th>\n",
       "      <th>m3</th>\n",
       "    </tr>\n",
       "    <tr>\n",
       "      <th>ts1</th>\n",
       "      <th>f0_l1</th>\n",
       "      <th>f0_l2</th>\n",
       "      <th>f0_l3</th>\n",
       "      <th>f1</th>\n",
       "      <th>f2</th>\n",
       "      <th>f3</th>\n",
       "      <th>f4_l1</th>\n",
       "      <th>f4_l2</th>\n",
       "      <th>f4_l3</th>\n",
       "      <th>f5_l1</th>\n",
       "      <th>f5_l2</th>\n",
       "      <th></th>\n",
       "      <th></th>\n",
       "      <th></th>\n",
       "    </tr>\n",
       "  </thead>\n",
       "  <tbody>\n",
       "    <tr>\n",
       "      <th>15.12.2018</th>\n",
       "      <th>2018</th>\n",
       "      <th>12</th>\n",
       "      <th>15</th>\n",
       "      <th>Wilbur</th>\n",
       "      <th>yes</th>\n",
       "      <th>metropolis</th>\n",
       "      <th>Germany</th>\n",
       "      <th>BadWurt</th>\n",
       "      <th>Freiburg</th>\n",
       "      <th>stationary</th>\n",
       "      <th>pen</th>\n",
       "      <td>354</td>\n",
       "      <td>23.95</td>\n",
       "      <td>2.82</td>\n",
       "    </tr>\n",
       "    <tr>\n",
       "      <th>14.12.2018</th>\n",
       "      <th>2018</th>\n",
       "      <th>12</th>\n",
       "      <th>14</th>\n",
       "      <th>Wilbur</th>\n",
       "      <th>no</th>\n",
       "      <th>smartpoint</th>\n",
       "      <th>Germany</th>\n",
       "      <th>Berlin</th>\n",
       "      <th>Berlin</th>\n",
       "      <th>household</th>\n",
       "      <th>wipes</th>\n",
       "      <td>971</td>\n",
       "      <td>57.05</td>\n",
       "      <td>7.60</td>\n",
       "    </tr>\n",
       "    <tr>\n",
       "      <th>22.10.2018</th>\n",
       "      <th>2018</th>\n",
       "      <th>10</th>\n",
       "      <th>22</th>\n",
       "      <th>Greg</th>\n",
       "      <th>yes</th>\n",
       "      <th>thebarn</th>\n",
       "      <th>Germany</th>\n",
       "      <th>Bremen</th>\n",
       "      <th>Bremen</th>\n",
       "      <th>stationary</th>\n",
       "      <th>water colours</th>\n",
       "      <td>142</td>\n",
       "      <td>21.01</td>\n",
       "      <td>3.75</td>\n",
       "    </tr>\n",
       "  </tbody>\n",
       "</table>\n",
       "</div>"
      ],
      "text/plain": [
       "METRICS                                                                                                m1  \\\n",
       "ts1        f0_l1 f0_l2 f0_l3 f1     f2  f3         f4_l1   f4_l2   f4_l3    f5_l1      f5_l2                \n",
       "15.12.2018 2018  12    15    Wilbur yes metropolis Germany BadWurt Freiburg stationary pen            354   \n",
       "14.12.2018 2018  12    14    Wilbur no  smartpoint Germany Berlin  Berlin   household  wipes          971   \n",
       "22.10.2018 2018  10    22    Greg   yes thebarn    Germany Bremen  Bremen   stationary water colours  142   \n",
       "\n",
       "METRICS                                                                                                  m2  \\\n",
       "ts1        f0_l1 f0_l2 f0_l3 f1     f2  f3         f4_l1   f4_l2   f4_l3    f5_l1      f5_l2                  \n",
       "15.12.2018 2018  12    15    Wilbur yes metropolis Germany BadWurt Freiburg stationary pen            23.95   \n",
       "14.12.2018 2018  12    14    Wilbur no  smartpoint Germany Berlin  Berlin   household  wipes          57.05   \n",
       "22.10.2018 2018  10    22    Greg   yes thebarn    Germany Bremen  Bremen   stationary water colours  21.01   \n",
       "\n",
       "METRICS                                                                                                 m3  \n",
       "ts1        f0_l1 f0_l2 f0_l3 f1     f2  f3         f4_l1   f4_l2   f4_l3    f5_l1      f5_l2                \n",
       "15.12.2018 2018  12    15    Wilbur yes metropolis Germany BadWurt Freiburg stationary pen            2.82  \n",
       "14.12.2018 2018  12    14    Wilbur no  smartpoint Germany Berlin  Berlin   household  wipes          7.60  \n",
       "22.10.2018 2018  10    22    Greg   yes thebarn    Germany Bremen  Bremen   stationary water colours  3.75  "
      ]
     },
     "execution_count": 35,
     "metadata": {},
     "output_type": "execute_result"
    }
   ],
   "source": [
    "df_w2.head(3)"
   ]
  },
  {
   "cell_type": "code",
   "execution_count": 36,
   "metadata": {
    "collapsed": true
   },
   "outputs": [],
   "source": [
    "# calculate revenue metric:\n",
    "df_w20 = df_w2.assign(m4 = lambda x: x.m1 * x.m2)"
   ]
  },
  {
   "cell_type": "code",
   "execution_count": 37,
   "metadata": {},
   "outputs": [
    {
     "data": {
      "text/html": [
       "<div>\n",
       "<style>\n",
       "    .dataframe thead tr:only-child th {\n",
       "        text-align: right;\n",
       "    }\n",
       "\n",
       "    .dataframe thead th {\n",
       "        text-align: left;\n",
       "    }\n",
       "\n",
       "    .dataframe tbody tr th {\n",
       "        vertical-align: top;\n",
       "    }\n",
       "</style>\n",
       "<table border=\"1\" class=\"dataframe\">\n",
       "  <thead>\n",
       "    <tr style=\"text-align: right;\">\n",
       "      <th></th>\n",
       "      <th></th>\n",
       "      <th></th>\n",
       "      <th></th>\n",
       "      <th></th>\n",
       "      <th></th>\n",
       "      <th></th>\n",
       "      <th></th>\n",
       "      <th></th>\n",
       "      <th></th>\n",
       "      <th></th>\n",
       "      <th>METRICS</th>\n",
       "      <th>m1</th>\n",
       "      <th>m2</th>\n",
       "      <th>m3</th>\n",
       "      <th>m4</th>\n",
       "    </tr>\n",
       "    <tr>\n",
       "      <th>ts1</th>\n",
       "      <th>f0_l1</th>\n",
       "      <th>f0_l2</th>\n",
       "      <th>f0_l3</th>\n",
       "      <th>f1</th>\n",
       "      <th>f2</th>\n",
       "      <th>f3</th>\n",
       "      <th>f4_l1</th>\n",
       "      <th>f4_l2</th>\n",
       "      <th>f4_l3</th>\n",
       "      <th>f5_l1</th>\n",
       "      <th>f5_l2</th>\n",
       "      <th></th>\n",
       "      <th></th>\n",
       "      <th></th>\n",
       "      <th></th>\n",
       "    </tr>\n",
       "  </thead>\n",
       "  <tbody>\n",
       "    <tr>\n",
       "      <th>15.12.2018</th>\n",
       "      <th>2018</th>\n",
       "      <th>12</th>\n",
       "      <th>15</th>\n",
       "      <th>Wilbur</th>\n",
       "      <th>yes</th>\n",
       "      <th>metropolis</th>\n",
       "      <th>Germany</th>\n",
       "      <th>BadWurt</th>\n",
       "      <th>Freiburg</th>\n",
       "      <th>stationary</th>\n",
       "      <th>pen</th>\n",
       "      <td>354</td>\n",
       "      <td>23.95</td>\n",
       "      <td>2.82</td>\n",
       "      <td>8478.30</td>\n",
       "    </tr>\n",
       "    <tr>\n",
       "      <th>14.12.2018</th>\n",
       "      <th>2018</th>\n",
       "      <th>12</th>\n",
       "      <th>14</th>\n",
       "      <th>Wilbur</th>\n",
       "      <th>no</th>\n",
       "      <th>smartpoint</th>\n",
       "      <th>Germany</th>\n",
       "      <th>Berlin</th>\n",
       "      <th>Berlin</th>\n",
       "      <th>household</th>\n",
       "      <th>wipes</th>\n",
       "      <td>971</td>\n",
       "      <td>57.05</td>\n",
       "      <td>7.60</td>\n",
       "      <td>55395.55</td>\n",
       "    </tr>\n",
       "  </tbody>\n",
       "</table>\n",
       "</div>"
      ],
      "text/plain": [
       "METRICS                                                                                        m1  \\\n",
       "ts1        f0_l1 f0_l2 f0_l3 f1     f2  f3         f4_l1   f4_l2   f4_l3    f5_l1      f5_l2        \n",
       "15.12.2018 2018  12    15    Wilbur yes metropolis Germany BadWurt Freiburg stationary pen    354   \n",
       "14.12.2018 2018  12    14    Wilbur no  smartpoint Germany Berlin  Berlin   household  wipes  971   \n",
       "\n",
       "METRICS                                                                                          m2  \\\n",
       "ts1        f0_l1 f0_l2 f0_l3 f1     f2  f3         f4_l1   f4_l2   f4_l3    f5_l1      f5_l2          \n",
       "15.12.2018 2018  12    15    Wilbur yes metropolis Germany BadWurt Freiburg stationary pen    23.95   \n",
       "14.12.2018 2018  12    14    Wilbur no  smartpoint Germany Berlin  Berlin   household  wipes  57.05   \n",
       "\n",
       "METRICS                                                                                         m3  \\\n",
       "ts1        f0_l1 f0_l2 f0_l3 f1     f2  f3         f4_l1   f4_l2   f4_l3    f5_l1      f5_l2         \n",
       "15.12.2018 2018  12    15    Wilbur yes metropolis Germany BadWurt Freiburg stationary pen    2.82   \n",
       "14.12.2018 2018  12    14    Wilbur no  smartpoint Germany Berlin  Berlin   household  wipes  7.60   \n",
       "\n",
       "METRICS                                                                                             m4  \n",
       "ts1        f0_l1 f0_l2 f0_l3 f1     f2  f3         f4_l1   f4_l2   f4_l3    f5_l1      f5_l2            \n",
       "15.12.2018 2018  12    15    Wilbur yes metropolis Germany BadWurt Freiburg stationary pen     8478.30  \n",
       "14.12.2018 2018  12    14    Wilbur no  smartpoint Germany Berlin  Berlin   household  wipes  55395.55  "
      ]
     },
     "execution_count": 37,
     "metadata": {},
     "output_type": "execute_result"
    }
   ],
   "source": [
    "df_w20.head(2)"
   ]
  },
  {
   "cell_type": "markdown",
   "metadata": {},
   "source": [
    "__Comparing  Bavaria and NRW in terms of revenue per product category (and not as previously, units)__ is now essentially the same calculation, just on a different metric (m4 instead of m1)"
   ]
  },
  {
   "cell_type": "code",
   "execution_count": 38,
   "metadata": {
    "collapsed": true
   },
   "outputs": [],
   "source": [
    "# Step1: define the different criteria:\n",
    "c_metrics = ['m4']   ###essentially the only difference to the previous code\n",
    "c_f4_l2 = ['Bavaria', 'NRW']\n",
    "l_row_agg = ['f5_l1', 'f5_l2'] # Product Category and Product information to aggregate the info on"
   ]
  },
  {
   "cell_type": "code",
   "execution_count": 39,
   "metadata": {
    "collapsed": true
   },
   "outputs": [],
   "source": [
    "# Step2: perform the same steps as above\n",
    "s_w4 = df_w20.stack('METRICS') # move metrics to rows and reduce data set to series by doing so"
   ]
  },
  {
   "cell_type": "code",
   "execution_count": 40,
   "metadata": {
    "collapsed": true
   },
   "outputs": [],
   "source": [
    "df_w20 = s_w4.unstack('f0_l1').fillna(0) # move YEAR-info to only column; works because all values are \"2018\""
   ]
  },
  {
   "cell_type": "code",
   "execution_count": 41,
   "metadata": {
    "collapsed": true
   },
   "outputs": [],
   "source": [
    "df_w21 = df_w20.query('METRICS == @c_metrics & f4_l2 == @c_f4_l2') # perform filtering on DF according to criteria"
   ]
  },
  {
   "cell_type": "code",
   "execution_count": 42,
   "metadata": {
    "collapsed": true
   },
   "outputs": [],
   "source": [
    "df_w21 = df_w21.stack('f0_l1')  # move YEAR-info back to rows (...makes df_w21 technically a Series for a moment...)\n",
    "df_w21 = df_w21.unstack('f4_l2').fillna(0) # move (filtered) STATE info columns"
   ]
  },
  {
   "cell_type": "code",
   "execution_count": 43,
   "metadata": {
    "collapsed": true
   },
   "outputs": [],
   "source": [
    "df_w21 = df_w21.groupby(level = l_row_agg).sum() # perform aggregation on Product Category and Product"
   ]
  },
  {
   "cell_type": "code",
   "execution_count": 44,
   "metadata": {},
   "outputs": [
    {
     "data": {
      "text/html": [
       "<div>\n",
       "<style>\n",
       "    .dataframe thead tr:only-child th {\n",
       "        text-align: right;\n",
       "    }\n",
       "\n",
       "    .dataframe thead th {\n",
       "        text-align: left;\n",
       "    }\n",
       "\n",
       "    .dataframe tbody tr th {\n",
       "        vertical-align: top;\n",
       "    }\n",
       "</style>\n",
       "<table border=\"1\" class=\"dataframe\">\n",
       "  <thead>\n",
       "    <tr style=\"text-align: right;\">\n",
       "      <th></th>\n",
       "      <th>f4_l2</th>\n",
       "      <th>Bavaria</th>\n",
       "      <th>NRW</th>\n",
       "      <th>DELTAabs</th>\n",
       "      <th>DELTAper</th>\n",
       "    </tr>\n",
       "    <tr>\n",
       "      <th>f5_l1</th>\n",
       "      <th>f5_l2</th>\n",
       "      <th></th>\n",
       "      <th></th>\n",
       "      <th></th>\n",
       "      <th></th>\n",
       "    </tr>\n",
       "  </thead>\n",
       "  <tbody>\n",
       "    <tr>\n",
       "      <th rowspan=\"3\" valign=\"top\">appliances</th>\n",
       "      <th>micro wave oven</th>\n",
       "      <td>99429.73</td>\n",
       "      <td>293827.84</td>\n",
       "      <td>194398.11</td>\n",
       "      <td>195.513062</td>\n",
       "    </tr>\n",
       "    <tr>\n",
       "      <th>mixer</th>\n",
       "      <td>163887.50</td>\n",
       "      <td>326749.03</td>\n",
       "      <td>162861.53</td>\n",
       "      <td>99.373979</td>\n",
       "    </tr>\n",
       "    <tr>\n",
       "      <th>vaccum cleaner</th>\n",
       "      <td>229170.52</td>\n",
       "      <td>490948.38</td>\n",
       "      <td>261777.86</td>\n",
       "      <td>114.228418</td>\n",
       "    </tr>\n",
       "    <tr>\n",
       "      <th rowspan=\"4\" valign=\"top\">household</th>\n",
       "      <th>gloves</th>\n",
       "      <td>78166.48</td>\n",
       "      <td>311737.08</td>\n",
       "      <td>233570.60</td>\n",
       "      <td>298.811716</td>\n",
       "    </tr>\n",
       "    <tr>\n",
       "      <th>towls</th>\n",
       "      <td>221031.49</td>\n",
       "      <td>67503.50</td>\n",
       "      <td>-153527.99</td>\n",
       "      <td>-69.459781</td>\n",
       "    </tr>\n",
       "    <tr>\n",
       "      <th>waste bags</th>\n",
       "      <td>232631.54</td>\n",
       "      <td>105732.58</td>\n",
       "      <td>-126898.96</td>\n",
       "      <td>-54.549336</td>\n",
       "    </tr>\n",
       "    <tr>\n",
       "      <th>wipes</th>\n",
       "      <td>77680.24</td>\n",
       "      <td>296930.76</td>\n",
       "      <td>219250.52</td>\n",
       "      <td>282.247480</td>\n",
       "    </tr>\n",
       "    <tr>\n",
       "      <th rowspan=\"5\" valign=\"top\">stationary</th>\n",
       "      <th>ball-pen</th>\n",
       "      <td>370317.46</td>\n",
       "      <td>262883.77</td>\n",
       "      <td>-107433.69</td>\n",
       "      <td>-29.011241</td>\n",
       "    </tr>\n",
       "    <tr>\n",
       "      <th>marker</th>\n",
       "      <td>318396.12</td>\n",
       "      <td>159287.73</td>\n",
       "      <td>-159108.39</td>\n",
       "      <td>-49.971837</td>\n",
       "    </tr>\n",
       "    <tr>\n",
       "      <th>pen</th>\n",
       "      <td>287869.52</td>\n",
       "      <td>239729.53</td>\n",
       "      <td>-48139.99</td>\n",
       "      <td>-16.722851</td>\n",
       "    </tr>\n",
       "    <tr>\n",
       "      <th>pencil</th>\n",
       "      <td>252545.44</td>\n",
       "      <td>186248.26</td>\n",
       "      <td>-66297.18</td>\n",
       "      <td>-26.251585</td>\n",
       "    </tr>\n",
       "    <tr>\n",
       "      <th>water colours</th>\n",
       "      <td>119757.25</td>\n",
       "      <td>358144.77</td>\n",
       "      <td>238387.52</td>\n",
       "      <td>199.058946</td>\n",
       "    </tr>\n",
       "  </tbody>\n",
       "</table>\n",
       "</div>"
      ],
      "text/plain": [
       "f4_l2                         Bavaria        NRW   DELTAabs    DELTAper\n",
       "f5_l1      f5_l2                                                       \n",
       "appliances micro wave oven   99429.73  293827.84  194398.11  195.513062\n",
       "           mixer            163887.50  326749.03  162861.53   99.373979\n",
       "           vaccum cleaner   229170.52  490948.38  261777.86  114.228418\n",
       "household  gloves            78166.48  311737.08  233570.60  298.811716\n",
       "           towls            221031.49   67503.50 -153527.99  -69.459781\n",
       "           waste bags       232631.54  105732.58 -126898.96  -54.549336\n",
       "           wipes             77680.24  296930.76  219250.52  282.247480\n",
       "stationary ball-pen         370317.46  262883.77 -107433.69  -29.011241\n",
       "           marker           318396.12  159287.73 -159108.39  -49.971837\n",
       "           pen              287869.52  239729.53  -48139.99  -16.722851\n",
       "           pencil           252545.44  186248.26  -66297.18  -26.251585\n",
       "           water colours    119757.25  358144.77  238387.52  199.058946"
      ]
     },
     "execution_count": 44,
     "metadata": {},
     "output_type": "execute_result"
    }
   ],
   "source": [
    "# calculate the differential\n",
    "df_w21 = df_w21.assign(DELTAabs = lambda x: x.NRW - x.Bavaria)\n",
    "df_w21 = df_w21.assign(DELTAper = lambda x: ((x.NRW / x.Bavaria)-1)*100)\n",
    "df_w21"
   ]
  },
  {
   "cell_type": "markdown",
   "metadata": {},
   "source": [
    "...et voilà: the same info, but now for the revenue instead of units"
   ]
  },
  {
   "cell_type": "markdown",
   "metadata": {},
   "source": [
    "# Where Excel fails Part2: producing TLF-format from csv-input"
   ]
  },
  {
   "cell_type": "markdown",
   "metadata": {
    "collapsed": true
   },
   "source": [
    "## Typical open data sources will allow multidimensional export\n",
    "For example Eurostat (https://ec.europa.eu/eurostat/data/database#) from which the Table educ_uoe_perp01 was exported (number of teaching personal per country broken down per taught eduction level and sex)\n",
    "### The typical export will look like this:\n"
   ]
  },
  {
   "cell_type": "code",
   "execution_count": 45,
   "metadata": {},
   "outputs": [
    {
     "data": {
      "text/html": [
       "<img src=\"img/EuroStat_Export_Format.PNG\">"
      ],
      "text/plain": [
       "<IPython.core.display.HTML object>"
      ]
     },
     "metadata": {},
     "output_type": "display_data"
    }
   ],
   "source": [
    "%%html\n",
    "<img src=\"img/EuroStat_Export_Format.PNG\">"
   ]
  },
  {
   "cell_type": "markdown",
   "metadata": {},
   "source": [
    "##### After eliminating the first 9 rows, the import of this data via CSV will look like this:"
   ]
  },
  {
   "cell_type": "code",
   "execution_count": 46,
   "metadata": {},
   "outputs": [
    {
     "data": {
      "text/html": [
       "<div>\n",
       "<style>\n",
       "    .dataframe thead tr:only-child th {\n",
       "        text-align: right;\n",
       "    }\n",
       "\n",
       "    .dataframe thead th {\n",
       "        text-align: left;\n",
       "    }\n",
       "\n",
       "    .dataframe tbody tr th {\n",
       "        vertical-align: top;\n",
       "    }\n",
       "</style>\n",
       "<table border=\"1\" class=\"dataframe\">\n",
       "  <thead>\n",
       "    <tr style=\"text-align: right;\">\n",
       "      <th></th>\n",
       "      <th>Unnamed: 0</th>\n",
       "      <th>SEX</th>\n",
       "      <th>M</th>\n",
       "      <th>M.1</th>\n",
       "      <th>M.2</th>\n",
       "      <th>M.3</th>\n",
       "      <th>M.4</th>\n",
       "      <th>F</th>\n",
       "      <th>F.1</th>\n",
       "      <th>F.2</th>\n",
       "      <th>F.3</th>\n",
       "      <th>F.4</th>\n",
       "    </tr>\n",
       "  </thead>\n",
       "  <tbody>\n",
       "    <tr>\n",
       "      <th>0</th>\n",
       "      <td>ISCED11</td>\n",
       "      <td>GEO/TIME</td>\n",
       "      <td>2013</td>\n",
       "      <td>2014</td>\n",
       "      <td>2015</td>\n",
       "      <td>2016</td>\n",
       "      <td>2017</td>\n",
       "      <td>2013</td>\n",
       "      <td>2014</td>\n",
       "      <td>2015</td>\n",
       "      <td>2016</td>\n",
       "      <td>2017</td>\n",
       "    </tr>\n",
       "    <tr>\n",
       "      <th>1</th>\n",
       "      <td>ED0</td>\n",
       "      <td>BE</td>\n",
       "      <td>1.107</td>\n",
       "      <td>1.113</td>\n",
       "      <td>1.164</td>\n",
       "      <td>1.197</td>\n",
       "      <td>1.181</td>\n",
       "      <td>32.546</td>\n",
       "      <td>33.352</td>\n",
       "      <td>34.090</td>\n",
       "      <td>34.429</td>\n",
       "      <td>34.709</td>\n",
       "    </tr>\n",
       "    <tr>\n",
       "      <th>2</th>\n",
       "      <td>ED0</td>\n",
       "      <td>BG</td>\n",
       "      <td>43</td>\n",
       "      <td>44</td>\n",
       "      <td>55</td>\n",
       "      <td>47</td>\n",
       "      <td>:</td>\n",
       "      <td>18.466</td>\n",
       "      <td>18.725</td>\n",
       "      <td>18.927</td>\n",
       "      <td>18.810</td>\n",
       "      <td>:</td>\n",
       "    </tr>\n",
       "  </tbody>\n",
       "</table>\n",
       "</div>"
      ],
      "text/plain": [
       "  Unnamed: 0       SEX      M    M.1    M.2    M.3    M.4       F     F.1  \\\n",
       "0    ISCED11  GEO/TIME   2013   2014   2015   2016   2017    2013    2014   \n",
       "1        ED0        BE  1.107  1.113  1.164  1.197  1.181  32.546  33.352   \n",
       "2        ED0        BG     43     44     55     47      :  18.466  18.725   \n",
       "\n",
       "      F.2     F.3     F.4  \n",
       "0    2015    2016    2017  \n",
       "1  34.090  34.429  34.709  \n",
       "2  18.927  18.810       :  "
      ]
     },
     "execution_count": 46,
     "metadata": {},
     "output_type": "execute_result"
    }
   ],
   "source": [
    "df_eurostat_edu_standard = pd.read_csv('educ_uoe_perp01_export.csv',  sep=',', decimal =',')\n",
    "df_eurostat_edu_standard.head(3)"
   ]
  },
  {
   "cell_type": "markdown",
   "metadata": {},
   "source": [
    "##### ...which looks like a lot of data prep  before we can start with the actual work!!!\n",
    "- e.g. the two sex categories (M/F) were interpretated as column heads and had a .#-suffix added for uniqueness\n",
    "- the year-info is not correctly interpretated, because there can only be one column name"
   ]
  },
  {
   "cell_type": "markdown",
   "metadata": {},
   "source": [
    "## But with very little work on the csv-format, the data can be used directly\n",
    "\n",
    "### The modified csv-file allows Pandas, together with the right parameter in the .pd.read_csv import method, to correctly interprete the data-structure as multi-index:\n"
   ]
  },
  {
   "cell_type": "code",
   "execution_count": 47,
   "metadata": {},
   "outputs": [
    {
     "data": {
      "text/html": [
       "<img src=\"img/EuroStat_Pandas_MultiIndex_Format.PNG\">"
      ],
      "text/plain": [
       "<IPython.core.display.HTML object>"
      ]
     },
     "metadata": {},
     "output_type": "display_data"
    }
   ],
   "source": [
    "%%html\n",
    "<img src=\"img/EuroStat_Pandas_MultiIndex_Format.PNG\">"
   ]
  },
  {
   "cell_type": "code",
   "execution_count": 48,
   "metadata": {},
   "outputs": [
    {
     "data": {
      "text/html": [
       "<div>\n",
       "<style>\n",
       "    .dataframe thead tr:only-child th {\n",
       "        text-align: right;\n",
       "    }\n",
       "\n",
       "    .dataframe thead th {\n",
       "        text-align: left;\n",
       "    }\n",
       "\n",
       "    .dataframe tbody tr th {\n",
       "        vertical-align: top;\n",
       "    }\n",
       "</style>\n",
       "<table border=\"1\" class=\"dataframe\">\n",
       "  <thead>\n",
       "    <tr>\n",
       "      <th></th>\n",
       "      <th>SEX</th>\n",
       "      <th colspan=\"5\" halign=\"left\">M</th>\n",
       "      <th colspan=\"5\" halign=\"left\">F</th>\n",
       "    </tr>\n",
       "    <tr>\n",
       "      <th></th>\n",
       "      <th>TIME</th>\n",
       "      <th>2013</th>\n",
       "      <th>2014</th>\n",
       "      <th>2015</th>\n",
       "      <th>2016</th>\n",
       "      <th>2017</th>\n",
       "      <th>2013</th>\n",
       "      <th>2014</th>\n",
       "      <th>2015</th>\n",
       "      <th>2016</th>\n",
       "      <th>2017</th>\n",
       "    </tr>\n",
       "    <tr>\n",
       "      <th>EDU_LEVEL</th>\n",
       "      <th>CTRY</th>\n",
       "      <th></th>\n",
       "      <th></th>\n",
       "      <th></th>\n",
       "      <th></th>\n",
       "      <th></th>\n",
       "      <th></th>\n",
       "      <th></th>\n",
       "      <th></th>\n",
       "      <th></th>\n",
       "      <th></th>\n",
       "    </tr>\n",
       "  </thead>\n",
       "  <tbody>\n",
       "    <tr>\n",
       "      <th rowspan=\"3\" valign=\"top\">ED0</th>\n",
       "      <th>BE</th>\n",
       "      <td>1.107</td>\n",
       "      <td>1.113</td>\n",
       "      <td>1.164</td>\n",
       "      <td>1.197</td>\n",
       "      <td>1.181</td>\n",
       "      <td>32.546</td>\n",
       "      <td>33.352</td>\n",
       "      <td>34.090</td>\n",
       "      <td>34.429</td>\n",
       "      <td>34.709</td>\n",
       "    </tr>\n",
       "    <tr>\n",
       "      <th>BG</th>\n",
       "      <td>43</td>\n",
       "      <td>44</td>\n",
       "      <td>55</td>\n",
       "      <td>47</td>\n",
       "      <td>:</td>\n",
       "      <td>18.466</td>\n",
       "      <td>18.725</td>\n",
       "      <td>18.927</td>\n",
       "      <td>18.810</td>\n",
       "      <td>:</td>\n",
       "    </tr>\n",
       "    <tr>\n",
       "      <th>CZ</th>\n",
       "      <td>123</td>\n",
       "      <td>103</td>\n",
       "      <td>112</td>\n",
       "      <td>125</td>\n",
       "      <td>:</td>\n",
       "      <td>25.656</td>\n",
       "      <td>26.778</td>\n",
       "      <td>27.512</td>\n",
       "      <td>27.640</td>\n",
       "      <td>:</td>\n",
       "    </tr>\n",
       "  </tbody>\n",
       "</table>\n",
       "</div>"
      ],
      "text/plain": [
       "SEX                 M                                   F                  \\\n",
       "TIME             2013   2014   2015   2016   2017    2013    2014    2015   \n",
       "EDU_LEVEL CTRY                                                              \n",
       "ED0       BE    1.107  1.113  1.164  1.197  1.181  32.546  33.352  34.090   \n",
       "          BG       43     44     55     47      :  18.466  18.725  18.927   \n",
       "          CZ      123    103    112    125      :  25.656  26.778  27.512   \n",
       "\n",
       "SEX                             \n",
       "TIME              2016    2017  \n",
       "EDU_LEVEL CTRY                  \n",
       "ED0       BE    34.429  34.709  \n",
       "          BG    18.810       :  \n",
       "          CZ    27.640       :  "
      ]
     },
     "execution_count": 48,
     "metadata": {},
     "output_type": "execute_result"
    }
   ],
   "source": [
    "###################################################################\n",
    "# Probably the most important takeaway from this notebook:\n",
    "# Providing the right import format from the start dramatically\n",
    "# reduces data preparation time and complexity.\n",
    "# Complex multidimensional data can be imported as multi-indexed\n",
    "# data frame with the 'header' and 'index_col' parameter of the\n",
    "# .pd.read_csv-method\n",
    "# .......try to do that with Excel !!!!!!!\n",
    "###################################################################\n",
    "\n",
    "df_eurostat_edu_multiindex = pd.read_csv('educ_uoe_perp01_pandas_multi_index.csv', \n",
    "                                         sep=',', decimal =',', header=[0,1], index_col=[0,1])\n",
    "                                        # header: column headers (names in green)\n",
    "                                        # index_col: columns serving to index rows (names in orange)\n",
    "df_eurostat_edu_multiindex.head(3)"
   ]
  },
  {
   "cell_type": "code",
   "execution_count": 49,
   "metadata": {},
   "outputs": [
    {
     "data": {
      "text/plain": [
       "FrozenList(['SEX', 'TIME'])"
      ]
     },
     "execution_count": 49,
     "metadata": {},
     "output_type": "execute_result"
    }
   ],
   "source": [
    "df_eurostat_edu_multiindex.columns.names\n",
    "# df_eurostat_edu_multiindex.index.names\n",
    "# df_eurostat_edu_multiindex.columns.values\n",
    "# df_eurostat_edu_multiindex.index.values"
   ]
  },
  {
   "cell_type": "code",
   "execution_count": 50,
   "metadata": {},
   "outputs": [
    {
     "data": {
      "text/plain": [
       "FrozenList([None])"
      ]
     },
     "execution_count": 50,
     "metadata": {},
     "output_type": "execute_result"
    }
   ],
   "source": [
    "df_eurostat_edu_standard.columns.names\n",
    "# df_eurostat_edu_standard.index.names\n",
    "# df_eurostat_edu_standard.columns.values\n",
    "# df_eurostat_edu_standard.index.values"
   ]
  },
  {
   "cell_type": "code",
   "execution_count": 51,
   "metadata": {},
   "outputs": [
    {
     "data": {
      "text/plain": [
       "Index(['Unnamed: 0', 'SEX', 'M', 'M.1', 'M.2', 'M.3', 'M.4', 'F', 'F.1', 'F.2',\n",
       "       'F.3', 'F.4'],\n",
       "      dtype='object')"
      ]
     },
     "execution_count": 51,
     "metadata": {},
     "output_type": "execute_result"
    }
   ],
   "source": [
    "df_eurostat_edu_standard.columns"
   ]
  },
  {
   "cell_type": "markdown",
   "metadata": {
    "collapsed": true
   },
   "source": [
    "### Stacking and unstacking will work directly on this data set:"
   ]
  },
  {
   "cell_type": "code",
   "execution_count": 52,
   "metadata": {},
   "outputs": [
    {
     "data": {
      "text/html": [
       "<div>\n",
       "<style>\n",
       "    .dataframe thead tr:only-child th {\n",
       "        text-align: right;\n",
       "    }\n",
       "\n",
       "    .dataframe thead th {\n",
       "        text-align: left;\n",
       "    }\n",
       "\n",
       "    .dataframe tbody tr th {\n",
       "        vertical-align: top;\n",
       "    }\n",
       "</style>\n",
       "<table border=\"1\" class=\"dataframe\">\n",
       "  <thead>\n",
       "    <tr style=\"text-align: right;\">\n",
       "      <th></th>\n",
       "      <th></th>\n",
       "      <th>SEX</th>\n",
       "      <th>F</th>\n",
       "      <th>M</th>\n",
       "    </tr>\n",
       "    <tr>\n",
       "      <th>EDU_LEVEL</th>\n",
       "      <th>CTRY</th>\n",
       "      <th>TIME</th>\n",
       "      <th></th>\n",
       "      <th></th>\n",
       "    </tr>\n",
       "  </thead>\n",
       "  <tbody>\n",
       "    <tr>\n",
       "      <th rowspan=\"10\" valign=\"top\">ED0</th>\n",
       "      <th rowspan=\"5\" valign=\"top\">BE</th>\n",
       "      <th>2013</th>\n",
       "      <td>32.546</td>\n",
       "      <td>1.107</td>\n",
       "    </tr>\n",
       "    <tr>\n",
       "      <th>2014</th>\n",
       "      <td>33.352</td>\n",
       "      <td>1.113</td>\n",
       "    </tr>\n",
       "    <tr>\n",
       "      <th>2015</th>\n",
       "      <td>34.090</td>\n",
       "      <td>1.164</td>\n",
       "    </tr>\n",
       "    <tr>\n",
       "      <th>2016</th>\n",
       "      <td>34.429</td>\n",
       "      <td>1.197</td>\n",
       "    </tr>\n",
       "    <tr>\n",
       "      <th>2017</th>\n",
       "      <td>34.709</td>\n",
       "      <td>1.181</td>\n",
       "    </tr>\n",
       "    <tr>\n",
       "      <th rowspan=\"5\" valign=\"top\">BG</th>\n",
       "      <th>2013</th>\n",
       "      <td>18.466</td>\n",
       "      <td>43</td>\n",
       "    </tr>\n",
       "    <tr>\n",
       "      <th>2014</th>\n",
       "      <td>18.725</td>\n",
       "      <td>44</td>\n",
       "    </tr>\n",
       "    <tr>\n",
       "      <th>2015</th>\n",
       "      <td>18.927</td>\n",
       "      <td>55</td>\n",
       "    </tr>\n",
       "    <tr>\n",
       "      <th>2016</th>\n",
       "      <td>18.810</td>\n",
       "      <td>47</td>\n",
       "    </tr>\n",
       "    <tr>\n",
       "      <th>2017</th>\n",
       "      <td>:</td>\n",
       "      <td>:</td>\n",
       "    </tr>\n",
       "  </tbody>\n",
       "</table>\n",
       "</div>"
      ],
      "text/plain": [
       "SEX                       F      M\n",
       "EDU_LEVEL CTRY TIME               \n",
       "ED0       BE   2013  32.546  1.107\n",
       "               2014  33.352  1.113\n",
       "               2015  34.090  1.164\n",
       "               2016  34.429  1.197\n",
       "               2017  34.709  1.181\n",
       "          BG   2013  18.466     43\n",
       "               2014  18.725     44\n",
       "               2015  18.927     55\n",
       "               2016  18.810     47\n",
       "               2017       :      :"
      ]
     },
     "execution_count": 52,
     "metadata": {},
     "output_type": "execute_result"
    }
   ],
   "source": [
    "df_w30 = df_eurostat_edu_multiindex.stack('TIME')\n",
    "df_w30.head(10)"
   ]
  },
  {
   "cell_type": "markdown",
   "metadata": {},
   "source": [
    "# Conclusion"
   ]
  },
  {
   "cell_type": "markdown",
   "metadata": {},
   "source": [
    "## Excel:\n",
    "- Excel unbeatable for quick ad-hoc analysis if data is available in TLF\n",
    "- Excel's problems start with\n",
    "    - workload from data preparation for non-TLF-data\n",
    "    - data size (especially if columns are based on functions: \"vlookup()-hell\")\n",
    "    - the need for downstream manipulation of the pivot table results"
   ]
  },
  {
   "cell_type": "markdown",
   "metadata": {},
   "source": [
    "## Python with Pandas:\n",
    "Elegantly addresses Excel's shortcomings\n",
    "- Performance of stack/unstack on large data sets\n",
    "- Elegant import of non-TLF-data for easy data preparation / generation of TLF-format\n",
    "- Easy downstream manipulation\n",
    "        - data enhancements (e.g. new features based on existing features like e.g. binning)\n",
    "        - calculations performed on aggregates\n",
    "- Easy reversing of manipulated data to TLF\n",
    "- Beyond data issue: seperation of data and logic (code) makes results easier to audit an errors easier to track\n",
    "\n"
   ]
  },
  {
   "cell_type": "markdown",
   "metadata": {},
   "source": [
    "### Shortcomings of Python and Pandas / warnings to keep in mind:\n",
    "- No automatic aggegation\n",
    "    - but wider range of potential aggregation functions\n",
    "- Multi-Index requires UNIQUE combination of features in index\n",
    "    - prior group-by across all index levels solves this issue\n",
    "- Some operations need sorted levels\n",
    "    - see https://www.somebits.com/~nelson/pandas-multiindex-slice-demo.html for details\n",
    "        - The simple solution is to sort the DataFrame using sortlevel(), which sorts lexicographically. If you don't like that sorting order, more control is available with sort_index(). \n",
    "        - code: df.sortlevel(inplace=True)"
   ]
  },
  {
   "cell_type": "markdown",
   "metadata": {},
   "source": [
    "### More links:\n",
    "- Easy intro and overview on Pandas\n",
    "    - Link towardsdatascience:\n",
    "        - https://towardsdatascience.com/be-a-more-efficient-data-scientist-today-master-pandas-with-this-guide-ea362d27386\n",
    "- Working with Excel in Python\n",
    "    - Link datasciencecentral:\n",
    "        - https://www.datasciencecentral.com/profiles/blogs/tools-for-working-with-excel-and-python\n",
    "    - ...and, of course:\n",
    "        - https://openpyxl.readthedocs.io/en/stable/"
   ]
  },
  {
   "cell_type": "markdown",
   "metadata": {},
   "source": [
    "# THE END"
   ]
  }
 ],
 "metadata": {
  "kernelspec": {
   "display_name": "Python 3",
   "language": "python",
   "name": "python3"
  },
  "language_info": {
   "codemirror_mode": {
    "name": "ipython",
    "version": 3
   },
   "file_extension": ".py",
   "mimetype": "text/x-python",
   "name": "python",
   "nbconvert_exporter": "python",
   "pygments_lexer": "ipython3",
   "version": "3.6.3"
  }
 },
 "nbformat": 4,
 "nbformat_minor": 2
}
